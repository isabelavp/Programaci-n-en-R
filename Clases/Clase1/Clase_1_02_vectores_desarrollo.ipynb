{
  "nbformat": 4,
  "nbformat_minor": 0,
  "metadata": {
    "colab": {
      "name": "Clase_1_02_vectores.ipynb",
      "provenance": [],
      "collapsed_sections": [],
      "include_colab_link": true
    },
    "kernelspec": {
      "name": "ir",
      "display_name": "R"
    }
  },
  "cells": [
    {
      "cell_type": "markdown",
      "metadata": {
        "id": "view-in-github",
        "colab_type": "text"
      },
      "source": [
        "<a href=\"https://colab.research.google.com/github/isabelavp/Programaci-n-en-R/blob/main/Clases/Clase1/Clase_1_02_vectores_desarrollo.ipynb\" target=\"_parent\"><img src=\"https://colab.research.google.com/assets/colab-badge.svg\" alt=\"Open In Colab\"/></a>"
      ]
    },
    {
      "cell_type": "markdown",
      "metadata": {
        "collapsed": true,
        "id": "Yb2RXjL2Igun"
      },
      "source": [
        "# Parte 1: Introducción a R (continuación)\n",
        "\n",
        "**Autor:** Miguel Jorquera Viguera<br>\n",
        "**E-mail:** majorquev@gmail.com<br>\n",
        "**Ayudante:** Jorge Arévalo Labarca <br>\n",
        "**E-mail ayudante:** jorge.arevalol@usach.cl\n",
        "\n"
      ]
    },
    {
      "cell_type": "markdown",
      "metadata": {
        "id": "d_bHZs66Iguo"
      },
      "source": [
        "## 3. Vectores y matrices\n",
        "\n",
        "### 3.1 Vectores\n",
        "\n",
        "En R, así como en la mayoría de los lenguajes de programación, uno de los objetos más usuales para almacenar información son los vectores, los que corresponden a arreglos unidimensionales que almacenan un mismo tipo de dato en cada una de sus entradas.\n",
        "\n",
        "Todo vector en R se puede declarar con la letra \"c\" seguido de los elementos que lo componen entre paréntesis y separados por comas."
      ]
    },
    {
      "cell_type": "code",
      "metadata": {
        "id": "ljQ0JcsTIgup"
      },
      "source": [
        "# Declaración de dos vectores\n",
        "v1 <- c(1,1,2,3,5,8,13)"
      ],
      "execution_count": null,
      "outputs": []
    },
    {
      "cell_type": "code",
      "metadata": {
        "id": "nyNjcjOkhzsK",
        "colab": {
          "base_uri": "https://localhost:8080/",
          "height": 52
        },
        "outputId": "591c0f03-2514-4ddc-dea1-82fe84c99a03"
      },
      "source": [
        "# Lo retomaremos más adelante\n",
        "1:100 # Retorna un vector de enteros consecutivos del 1 al 100."
      ],
      "execution_count": null,
      "outputs": [
        {
          "output_type": "display_data",
          "data": {
            "text/plain": [
              "  [1]   1   2   3   4   5   6   7   8   9  10  11  12  13  14  15  16  17  18\n",
              " [19]  19  20  21  22  23  24  25  26  27  28  29  30  31  32  33  34  35  36\n",
              " [37]  37  38  39  40  41  42  43  44  45  46  47  48  49  50  51  52  53  54\n",
              " [55]  55  56  57  58  59  60  61  62  63  64  65  66  67  68  69  70  71  72\n",
              " [73]  73  74  75  76  77  78  79  80  81  82  83  84  85  86  87  88  89  90\n",
              " [91]  91  92  93  94  95  96  97  98  99 100"
            ],
            "text/latex": "\\begin{enumerate*}\n\\item 1\n\\item 2\n\\item 3\n\\item 4\n\\item 5\n\\item 6\n\\item 7\n\\item 8\n\\item 9\n\\item 10\n\\item 11\n\\item 12\n\\item 13\n\\item 14\n\\item 15\n\\item 16\n\\item 17\n\\item 18\n\\item 19\n\\item 20\n\\item 21\n\\item 22\n\\item 23\n\\item 24\n\\item 25\n\\item 26\n\\item 27\n\\item 28\n\\item 29\n\\item 30\n\\item 31\n\\item 32\n\\item 33\n\\item 34\n\\item 35\n\\item 36\n\\item 37\n\\item 38\n\\item 39\n\\item 40\n\\item 41\n\\item 42\n\\item 43\n\\item 44\n\\item 45\n\\item 46\n\\item 47\n\\item 48\n\\item 49\n\\item 50\n\\item 51\n\\item 52\n\\item 53\n\\item 54\n\\item 55\n\\item 56\n\\item 57\n\\item 58\n\\item 59\n\\item 60\n\\item 61\n\\item 62\n\\item 63\n\\item 64\n\\item 65\n\\item 66\n\\item 67\n\\item 68\n\\item 69\n\\item 70\n\\item 71\n\\item 72\n\\item 73\n\\item 74\n\\item 75\n\\item 76\n\\item 77\n\\item 78\n\\item 79\n\\item 80\n\\item 81\n\\item 82\n\\item 83\n\\item 84\n\\item 85\n\\item 86\n\\item 87\n\\item 88\n\\item 89\n\\item 90\n\\item 91\n\\item 92\n\\item 93\n\\item 94\n\\item 95\n\\item 96\n\\item 97\n\\item 98\n\\item 99\n\\item 100\n\\end{enumerate*}\n",
            "text/markdown": "1. 1\n2. 2\n3. 3\n4. 4\n5. 5\n6. 6\n7. 7\n8. 8\n9. 9\n10. 10\n11. 11\n12. 12\n13. 13\n14. 14\n15. 15\n16. 16\n17. 17\n18. 18\n19. 19\n20. 20\n21. 21\n22. 22\n23. 23\n24. 24\n25. 25\n26. 26\n27. 27\n28. 28\n29. 29\n30. 30\n31. 31\n32. 32\n33. 33\n34. 34\n35. 35\n36. 36\n37. 37\n38. 38\n39. 39\n40. 40\n41. 41\n42. 42\n43. 43\n44. 44\n45. 45\n46. 46\n47. 47\n48. 48\n49. 49\n50. 50\n51. 51\n52. 52\n53. 53\n54. 54\n55. 55\n56. 56\n57. 57\n58. 58\n59. 59\n60. 60\n61. 61\n62. 62\n63. 63\n64. 64\n65. 65\n66. 66\n67. 67\n68. 68\n69. 69\n70. 70\n71. 71\n72. 72\n73. 73\n74. 74\n75. 75\n76. 76\n77. 77\n78. 78\n79. 79\n80. 80\n81. 81\n82. 82\n83. 83\n84. 84\n85. 85\n86. 86\n87. 87\n88. 88\n89. 89\n90. 90\n91. 91\n92. 92\n93. 93\n94. 94\n95. 95\n96. 96\n97. 97\n98. 98\n99. 99\n100. 100\n\n\n",
            "text/html": [
              "<style>\n",
              ".list-inline {list-style: none; margin:0; padding: 0}\n",
              ".list-inline>li {display: inline-block}\n",
              ".list-inline>li:not(:last-child)::after {content: \"\\00b7\"; padding: 0 .5ex}\n",
              "</style>\n",
              "<ol class=list-inline><li>1</li><li>2</li><li>3</li><li>4</li><li>5</li><li>6</li><li>7</li><li>8</li><li>9</li><li>10</li><li>11</li><li>12</li><li>13</li><li>14</li><li>15</li><li>16</li><li>17</li><li>18</li><li>19</li><li>20</li><li>21</li><li>22</li><li>23</li><li>24</li><li>25</li><li>26</li><li>27</li><li>28</li><li>29</li><li>30</li><li>31</li><li>32</li><li>33</li><li>34</li><li>35</li><li>36</li><li>37</li><li>38</li><li>39</li><li>40</li><li>41</li><li>42</li><li>43</li><li>44</li><li>45</li><li>46</li><li>47</li><li>48</li><li>49</li><li>50</li><li>51</li><li>52</li><li>53</li><li>54</li><li>55</li><li>56</li><li>57</li><li>58</li><li>59</li><li>60</li><li>61</li><li>62</li><li>63</li><li>64</li><li>65</li><li>66</li><li>67</li><li>68</li><li>69</li><li>70</li><li>71</li><li>72</li><li>73</li><li>74</li><li>75</li><li>76</li><li>77</li><li>78</li><li>79</li><li>80</li><li>81</li><li>82</li><li>83</li><li>84</li><li>85</li><li>86</li><li>87</li><li>88</li><li>89</li><li>90</li><li>91</li><li>92</li><li>93</li><li>94</li><li>95</li><li>96</li><li>97</li><li>98</li><li>99</li><li>100</li></ol>\n"
            ]
          },
          "metadata": {
            "tags": []
          }
        }
      ]
    },
    {
      "cell_type": "code",
      "metadata": {
        "id": "GxHhDdS4Iguy",
        "colab": {
          "base_uri": "https://localhost:8080/",
          "height": 52
        },
        "outputId": "9291a6a5-b1d3-454e-d020-d820bd0d150c"
      },
      "source": [
        "# clase y tipo de dato\n",
        "class(v1)\n",
        "typeof(v1)"
      ],
      "execution_count": null,
      "outputs": [
        {
          "output_type": "display_data",
          "data": {
            "text/plain": [
              "[1] \"numeric\""
            ],
            "text/latex": "'numeric'",
            "text/markdown": "'numeric'",
            "text/html": [
              "'numeric'"
            ]
          },
          "metadata": {
            "tags": []
          }
        },
        {
          "output_type": "display_data",
          "data": {
            "text/plain": [
              "[1] \"double\""
            ],
            "text/latex": "'double'",
            "text/markdown": "'double'",
            "text/html": [
              "'double'"
            ]
          },
          "metadata": {
            "tags": []
          }
        }
      ]
    },
    {
      "cell_type": "code",
      "metadata": {
        "id": "FUBvbIN9Igu4",
        "colab": {
          "base_uri": "https://localhost:8080/",
          "height": 35
        },
        "outputId": "c691bd70-2b52-4673-b476-c1dbed707992"
      },
      "source": [
        "# vectores lógicos\n",
        "v_log <- c(T,T,F,T,F)\n",
        "v_log"
      ],
      "execution_count": null,
      "outputs": [
        {
          "output_type": "display_data",
          "data": {
            "text/plain": [
              "[1]  TRUE  TRUE FALSE  TRUE FALSE"
            ],
            "text/latex": "\\begin{enumerate*}\n\\item TRUE\n\\item TRUE\n\\item FALSE\n\\item TRUE\n\\item FALSE\n\\end{enumerate*}\n",
            "text/markdown": "1. TRUE\n2. TRUE\n3. FALSE\n4. TRUE\n5. FALSE\n\n\n",
            "text/html": [
              "<style>\n",
              ".list-inline {list-style: none; margin:0; padding: 0}\n",
              ".list-inline>li {display: inline-block}\n",
              ".list-inline>li:not(:last-child)::after {content: \"\\00b7\"; padding: 0 .5ex}\n",
              "</style>\n",
              "<ol class=list-inline><li>TRUE</li><li>TRUE</li><li>FALSE</li><li>TRUE</li><li>FALSE</li></ol>\n"
            ]
          },
          "metadata": {
            "tags": []
          }
        }
      ]
    },
    {
      "cell_type": "code",
      "metadata": {
        "id": "oeWhZsUHipYB",
        "colab": {
          "base_uri": "https://localhost:8080/",
          "height": 35
        },
        "outputId": "2f862b81-1a7a-4a06-ef68-43a17883b08c"
      },
      "source": [
        "# vectores de strings\n",
        "palabras <- c(\"hola\", \"soy\", \"miguel\")\n",
        "palabras"
      ],
      "execution_count": null,
      "outputs": [
        {
          "output_type": "display_data",
          "data": {
            "text/plain": [
              "[1] \"hola\"   \"soy\"    \"miguel\""
            ],
            "text/latex": "\\begin{enumerate*}\n\\item 'hola'\n\\item 'soy'\n\\item 'miguel'\n\\end{enumerate*}\n",
            "text/markdown": "1. 'hola'\n2. 'soy'\n3. 'miguel'\n\n\n",
            "text/html": [
              "<style>\n",
              ".list-inline {list-style: none; margin:0; padding: 0}\n",
              ".list-inline>li {display: inline-block}\n",
              ".list-inline>li:not(:last-child)::after {content: \"\\00b7\"; padding: 0 .5ex}\n",
              "</style>\n",
              "<ol class=list-inline><li>'hola'</li><li>'soy'</li><li>'miguel'</li></ol>\n"
            ]
          },
          "metadata": {
            "tags": []
          }
        }
      ]
    },
    {
      "cell_type": "code",
      "metadata": {
        "id": "R88mjniaIgu_",
        "colab": {
          "base_uri": "https://localhost:8080/",
          "height": 35
        },
        "outputId": "84b66227-4ff1-41ac-ca2a-b640ba4298a1"
      },
      "source": [
        "# Nombres de las entradas de un vector\n",
        "names(v1)\n"
      ],
      "execution_count": null,
      "outputs": [
        {
          "output_type": "display_data",
          "data": {
            "text/plain": [
              "NULL"
            ]
          },
          "metadata": {
            "tags": []
          }
        }
      ]
    },
    {
      "cell_type": "code",
      "metadata": {
        "id": "1RKTUeyCi35l"
      },
      "source": [
        "# podemos asignar los nombres a vector 1\n",
        "names(v1) <- c(\"n1\",\"n2\",\"n3\",\"n4\",\"n5\",\"n6\",\"n7\")"
      ],
      "execution_count": null,
      "outputs": []
    },
    {
      "cell_type": "code",
      "metadata": {
        "id": "ogd2zrW1jJAC",
        "colab": {
          "base_uri": "https://localhost:8080/",
          "height": 35
        },
        "outputId": "3e54208b-5e3c-433d-b7da-895f4288b7bb"
      },
      "source": [
        "v1"
      ],
      "execution_count": null,
      "outputs": [
        {
          "output_type": "display_data",
          "data": {
            "text/plain": [
              "n1 n2 n3 n4 n5 n6 n7 \n",
              " 1  1  2  3  5  8 13 "
            ],
            "text/latex": "\\begin{description*}\n\\item[n1] 1\n\\item[n2] 1\n\\item[n3] 2\n\\item[n4] 3\n\\item[n5] 5\n\\item[n6] 8\n\\item[n7] 13\n\\end{description*}\n",
            "text/markdown": "n1\n:   1n2\n:   1n3\n:   2n4\n:   3n5\n:   5n6\n:   8n7\n:   13\n\n",
            "text/html": [
              "<style>\n",
              ".dl-inline {width: auto; margin:0; padding: 0}\n",
              ".dl-inline>dt, .dl-inline>dd {float: none; width: auto; display: inline-block}\n",
              ".dl-inline>dt::after {content: \":\\0020\"; padding-right: .5ex}\n",
              ".dl-inline>dt:not(:first-of-type) {padding-left: .5ex}\n",
              "</style><dl class=dl-inline><dt>n1</dt><dd>1</dd><dt>n2</dt><dd>1</dd><dt>n3</dt><dd>2</dd><dt>n4</dt><dd>3</dd><dt>n5</dt><dd>5</dd><dt>n6</dt><dd>8</dd><dt>n7</dt><dd>13</dd></dl>\n"
            ]
          },
          "metadata": {
            "tags": []
          }
        }
      ]
    },
    {
      "cell_type": "code",
      "metadata": {
        "id": "E6dxkyP5IgvF",
        "colab": {
          "base_uri": "https://localhost:8080/",
          "height": 35
        },
        "outputId": "228eff40-a892-444a-b4c1-acac8fc1a4e7"
      },
      "source": [
        "# nombres de las entradas con la función, names()\n",
        "names(v1)"
      ],
      "execution_count": null,
      "outputs": [
        {
          "output_type": "display_data",
          "data": {
            "text/plain": [
              "[1] \"n1\" \"n2\" \"n3\" \"n4\" \"n5\" \"n6\" \"n7\""
            ],
            "text/latex": "\\begin{enumerate*}\n\\item 'n1'\n\\item 'n2'\n\\item 'n3'\n\\item 'n4'\n\\item 'n5'\n\\item 'n6'\n\\item 'n7'\n\\end{enumerate*}\n",
            "text/markdown": "1. 'n1'\n2. 'n2'\n3. 'n3'\n4. 'n4'\n5. 'n5'\n6. 'n6'\n7. 'n7'\n\n\n",
            "text/html": [
              "<style>\n",
              ".list-inline {list-style: none; margin:0; padding: 0}\n",
              ".list-inline>li {display: inline-block}\n",
              ".list-inline>li:not(:last-child)::after {content: \"\\00b7\"; padding: 0 .5ex}\n",
              "</style>\n",
              "<ol class=list-inline><li>'n1'</li><li>'n2'</li><li>'n3'</li><li>'n4'</li><li>'n5'</li><li>'n6'</li><li>'n7'</li></ol>\n"
            ]
          },
          "metadata": {
            "tags": []
          }
        }
      ]
    },
    {
      "cell_type": "code",
      "metadata": {
        "id": "7Ayre5BlIgvH"
      },
      "source": [
        "#combinar vectores\n",
        "v3 <- c(100,200)"
      ],
      "execution_count": null,
      "outputs": []
    },
    {
      "cell_type": "code",
      "metadata": {
        "id": "QETBghXxIgvI",
        "colab": {
          "base_uri": "https://localhost:8080/",
          "height": 35
        },
        "outputId": "aa474e07-7e9e-4838-821b-7847234cced6"
      },
      "source": [
        "# c : es una abreviación de \"combine\"\n",
        "nuevo <- c(v1,v3)\n",
        "nuevo"
      ],
      "execution_count": null,
      "outputs": [
        {
          "output_type": "display_data",
          "data": {
            "text/plain": [
              " n1  n2  n3  n4  n5  n6  n7         \n",
              "  1   1   2   3   5   8  13 100 200 "
            ],
            "text/latex": "\\begin{description*}\n\\item[n1] 1\n\\item[n2] 1\n\\item[n3] 2\n\\item[n4] 3\n\\item[n5] 5\n\\item[n6] 8\n\\item[n7] 13\n\\item[8] 100\n\\item[9] 200\n\\end{description*}\n",
            "text/markdown": "n1\n:   1n2\n:   1n3\n:   2n4\n:   3n5\n:   5n6\n:   8n7\n:   138\n:   1009\n:   200\n\n",
            "text/html": [
              "<style>\n",
              ".dl-inline {width: auto; margin:0; padding: 0}\n",
              ".dl-inline>dt, .dl-inline>dd {float: none; width: auto; display: inline-block}\n",
              ".dl-inline>dt::after {content: \":\\0020\"; padding-right: .5ex}\n",
              ".dl-inline>dt:not(:first-of-type) {padding-left: .5ex}\n",
              "</style><dl class=dl-inline><dt>n1</dt><dd>1</dd><dt>n2</dt><dd>1</dd><dt>n3</dt><dd>2</dd><dt>n4</dt><dd>3</dd><dt>n5</dt><dd>5</dd><dt>n6</dt><dd>8</dd><dt>n7</dt><dd>13</dd><dt>8</dt><dd>100</dd><dt>9</dt><dd>200</dd></dl>\n"
            ]
          },
          "metadata": {
            "tags": []
          }
        }
      ]
    },
    {
      "cell_type": "code",
      "metadata": {
        "id": "kEIT2CvzjrJM",
        "colab": {
          "base_uri": "https://localhost:8080/",
          "height": 35
        },
        "outputId": "33e2d940-346d-40c3-fa63-55b9b23e4dd6"
      },
      "source": [
        "names(nuevo)"
      ],
      "execution_count": null,
      "outputs": [
        {
          "output_type": "display_data",
          "data": {
            "text/plain": [
              "[1] \"n1\" \"n2\" \"n3\" \"n4\" \"n5\" \"n6\" \"n7\" \"\"   \"\"  "
            ],
            "text/latex": "\\begin{enumerate*}\n\\item 'n1'\n\\item 'n2'\n\\item 'n3'\n\\item 'n4'\n\\item 'n5'\n\\item 'n6'\n\\item 'n7'\n\\item ''\n\\item ''\n\\end{enumerate*}\n",
            "text/markdown": "1. 'n1'\n2. 'n2'\n3. 'n3'\n4. 'n4'\n5. 'n5'\n6. 'n6'\n7. 'n7'\n8. ''\n9. ''\n\n\n",
            "text/html": [
              "<style>\n",
              ".list-inline {list-style: none; margin:0; padding: 0}\n",
              ".list-inline>li {display: inline-block}\n",
              ".list-inline>li:not(:last-child)::after {content: \"\\00b7\"; padding: 0 .5ex}\n",
              "</style>\n",
              "<ol class=list-inline><li>'n1'</li><li>'n2'</li><li>'n3'</li><li>'n4'</li><li>'n5'</li><li>'n6'</li><li>'n7'</li><li>''</li><li>''</li></ol>\n"
            ]
          },
          "metadata": {
            "tags": []
          }
        }
      ]
    },
    {
      "cell_type": "markdown",
      "metadata": {
        "id": "lLR_K4Tgj8ys"
      },
      "source": [
        "**Largo de un vector**\n",
        "Se consigue con la función length()"
      ]
    },
    {
      "cell_type": "code",
      "metadata": {
        "id": "5KJboKHCj7mh",
        "colab": {
          "base_uri": "https://localhost:8080/",
          "height": 35
        },
        "outputId": "afd5049c-1329-48fc-e1fc-f9a45a7c0b46"
      },
      "source": [
        "length(nuevo)"
      ],
      "execution_count": null,
      "outputs": [
        {
          "output_type": "display_data",
          "data": {
            "text/plain": [
              "[1] 9"
            ],
            "text/latex": "9",
            "text/markdown": "9",
            "text/html": [
              "9"
            ]
          },
          "metadata": {
            "tags": []
          }
        }
      ]
    },
    {
      "cell_type": "markdown",
      "metadata": {
        "id": "MX35j24_IgvN"
      },
      "source": [
        "#### 3.1.1 Acceso a los elementos de un vector\n",
        "\n",
        "El acceso a los elementos de un vector se puede llevar acabo indicando la posición del elemento (**los naturales parten en 1!**), el nombre de la casilla que lo contiene, o bien mediante sentencias lógicas que retornen \"TRUE\" en la posición deseada.\n",
        "\n"
      ]
    },
    {
      "cell_type": "code",
      "metadata": {
        "id": "zW2_TzKxIgvN",
        "colab": {
          "base_uri": "https://localhost:8080/",
          "height": 35
        },
        "outputId": "81f60005-7a19-4902-af54-be72b09bbfc6"
      },
      "source": [
        "# Mediante posición\n",
        "nuevo[3]"
      ],
      "execution_count": null,
      "outputs": [
        {
          "output_type": "display_data",
          "data": {
            "text/plain": [
              "n3 \n",
              " 2 "
            ],
            "text/latex": "\\textbf{n3:} 2",
            "text/markdown": "**n3:** 2",
            "text/html": [
              "<strong>n3:</strong> 2"
            ]
          },
          "metadata": {
            "tags": []
          }
        }
      ]
    },
    {
      "cell_type": "code",
      "metadata": {
        "id": "XWL1ZIyMIgvR",
        "colab": {
          "base_uri": "https://localhost:8080/",
          "height": 35
        },
        "outputId": "d70d40ce-dead-44d3-fc76-1d6dc005530a"
      },
      "source": [
        "# retorna los elementos de las casillas 1  y 4 de nuevo\n",
        "nuevo[c(1,4)]"
      ],
      "execution_count": null,
      "outputs": [
        {
          "output_type": "display_data",
          "data": {
            "text/plain": [
              "n1 n4 \n",
              " 1  3 "
            ],
            "text/latex": "\\begin{description*}\n\\item[n1] 1\n\\item[n4] 3\n\\end{description*}\n",
            "text/markdown": "n1\n:   1n4\n:   3\n\n",
            "text/html": [
              "<style>\n",
              ".dl-inline {width: auto; margin:0; padding: 0}\n",
              ".dl-inline>dt, .dl-inline>dd {float: none; width: auto; display: inline-block}\n",
              ".dl-inline>dt::after {content: \":\\0020\"; padding-right: .5ex}\n",
              ".dl-inline>dt:not(:first-of-type) {padding-left: .5ex}\n",
              "</style><dl class=dl-inline><dt>n1</dt><dd>1</dd><dt>n4</dt><dd>3</dd></dl>\n"
            ]
          },
          "metadata": {
            "tags": []
          }
        }
      ]
    },
    {
      "cell_type": "code",
      "metadata": {
        "id": "uBqEKq1aIgvT",
        "colab": {
          "base_uri": "https://localhost:8080/",
          "height": 52
        },
        "outputId": "62fe717b-ffb1-427d-9b6c-f4af18373523"
      },
      "source": [
        "#NOTA 3:5, R lo interpreta como c(3,4,5)\n",
        "nuevo[c(3,4,5)]\n",
        "nuevo[3:5]"
      ],
      "execution_count": null,
      "outputs": [
        {
          "output_type": "display_data",
          "data": {
            "text/plain": [
              "n3 n4 n5 \n",
              " 2  3  5 "
            ],
            "text/latex": "\\begin{description*}\n\\item[n3] 2\n\\item[n4] 3\n\\item[n5] 5\n\\end{description*}\n",
            "text/markdown": "n3\n:   2n4\n:   3n5\n:   5\n\n",
            "text/html": [
              "<style>\n",
              ".dl-inline {width: auto; margin:0; padding: 0}\n",
              ".dl-inline>dt, .dl-inline>dd {float: none; width: auto; display: inline-block}\n",
              ".dl-inline>dt::after {content: \":\\0020\"; padding-right: .5ex}\n",
              ".dl-inline>dt:not(:first-of-type) {padding-left: .5ex}\n",
              "</style><dl class=dl-inline><dt>n3</dt><dd>2</dd><dt>n4</dt><dd>3</dd><dt>n5</dt><dd>5</dd></dl>\n"
            ]
          },
          "metadata": {
            "tags": []
          }
        },
        {
          "output_type": "display_data",
          "data": {
            "text/plain": [
              "n3 n4 n5 \n",
              " 2  3  5 "
            ],
            "text/latex": "\\begin{description*}\n\\item[n3] 2\n\\item[n4] 3\n\\item[n5] 5\n\\end{description*}\n",
            "text/markdown": "n3\n:   2n4\n:   3n5\n:   5\n\n",
            "text/html": [
              "<style>\n",
              ".dl-inline {width: auto; margin:0; padding: 0}\n",
              ".dl-inline>dt, .dl-inline>dd {float: none; width: auto; display: inline-block}\n",
              ".dl-inline>dt::after {content: \":\\0020\"; padding-right: .5ex}\n",
              ".dl-inline>dt:not(:first-of-type) {padding-left: .5ex}\n",
              "</style><dl class=dl-inline><dt>n3</dt><dd>2</dd><dt>n4</dt><dd>3</dd><dt>n5</dt><dd>5</dd></dl>\n"
            ]
          },
          "metadata": {
            "tags": []
          }
        }
      ]
    },
    {
      "cell_type": "code",
      "metadata": {
        "id": "XIuQSfvKIgvV",
        "colab": {
          "base_uri": "https://localhost:8080/",
          "height": 35
        },
        "outputId": "ed8206de-620e-4f6c-f9d1-c22f42216f91"
      },
      "source": [
        "# podemos acceder a los elmentos mediante el nombre\n",
        "nuevo[\"n6\"] # Misma idea que la anterior, pero indicando el nombre de la casilla (con comillas)"
      ],
      "execution_count": null,
      "outputs": [
        {
          "output_type": "display_data",
          "data": {
            "text/plain": [
              "n6 \n",
              " 8 "
            ],
            "text/latex": "\\textbf{n6:} 8",
            "text/markdown": "**n6:** 8",
            "text/html": [
              "<strong>n6:</strong> 8"
            ]
          },
          "metadata": {
            "tags": []
          }
        }
      ]
    },
    {
      "cell_type": "code",
      "metadata": {
        "id": "tVVTJ7uIlEfV",
        "colab": {
          "base_uri": "https://localhost:8080/",
          "height": 35
        },
        "outputId": "71ca8f48-8b28-436d-c4bc-1b0c1c274223"
      },
      "source": [
        "nuevo[c(\"n3\", \"n6\")] # En el caso de requerir más de una celda. Se incluye un vector de nombres."
      ],
      "execution_count": null,
      "outputs": [
        {
          "output_type": "display_data",
          "data": {
            "text/plain": [
              "n3 n6 \n",
              " 2  8 "
            ],
            "text/latex": "\\begin{description*}\n\\item[n3] 2\n\\item[n6] 8\n\\end{description*}\n",
            "text/markdown": "n3\n:   2n6\n:   8\n\n",
            "text/html": [
              "<style>\n",
              ".dl-inline {width: auto; margin:0; padding: 0}\n",
              ".dl-inline>dt, .dl-inline>dd {float: none; width: auto; display: inline-block}\n",
              ".dl-inline>dt::after {content: \":\\0020\"; padding-right: .5ex}\n",
              ".dl-inline>dt:not(:first-of-type) {padding-left: .5ex}\n",
              "</style><dl class=dl-inline><dt>n3</dt><dd>2</dd><dt>n6</dt><dd>8</dd></dl>\n"
            ]
          },
          "metadata": {
            "tags": []
          }
        }
      ]
    },
    {
      "cell_type": "code",
      "metadata": {
        "id": "IHjnaSSyIgvX",
        "colab": {
          "base_uri": "https://localhost:8080/",
          "height": 35
        },
        "outputId": "2178eaf6-050d-42da-b055-1889eeec2e37"
      },
      "source": [
        "# cambiar una entrada de un vector o cambiar un nombre\n",
        "nuevo\n",
        "#Ej: Queremos cambiar el elmento de posición 3, por un -999"
      ],
      "execution_count": null,
      "outputs": [
        {
          "output_type": "display_data",
          "data": {
            "text/plain": [
              " n1  n2  n3  n4  n5  n6  n7         \n",
              "  1   1   2   3   5   8  13 100 200 "
            ],
            "text/latex": "\\begin{description*}\n\\item[n1] 1\n\\item[n2] 1\n\\item[n3] 2\n\\item[n4] 3\n\\item[n5] 5\n\\item[n6] 8\n\\item[n7] 13\n\\item[8] 100\n\\item[9] 200\n\\end{description*}\n",
            "text/markdown": "n1\n:   1n2\n:   1n3\n:   2n4\n:   3n5\n:   5n6\n:   8n7\n:   138\n:   1009\n:   200\n\n",
            "text/html": [
              "<style>\n",
              ".dl-inline {width: auto; margin:0; padding: 0}\n",
              ".dl-inline>dt, .dl-inline>dd {float: none; width: auto; display: inline-block}\n",
              ".dl-inline>dt::after {content: \":\\0020\"; padding-right: .5ex}\n",
              ".dl-inline>dt:not(:first-of-type) {padding-left: .5ex}\n",
              "</style><dl class=dl-inline><dt>n1</dt><dd>1</dd><dt>n2</dt><dd>1</dd><dt>n3</dt><dd>2</dd><dt>n4</dt><dd>3</dd><dt>n5</dt><dd>5</dd><dt>n6</dt><dd>8</dd><dt>n7</dt><dd>13</dd><dt>8</dt><dd>100</dd><dt>9</dt><dd>200</dd></dl>\n"
            ]
          },
          "metadata": {
            "tags": []
          }
        }
      ]
    },
    {
      "cell_type": "code",
      "metadata": {
        "id": "KCKDbYtRIgvZ"
      },
      "source": [
        "nuevo[3] <- -999"
      ],
      "execution_count": null,
      "outputs": []
    },
    {
      "cell_type": "code",
      "metadata": {
        "id": "TKTalHnSltGf",
        "colab": {
          "base_uri": "https://localhost:8080/",
          "height": 35
        },
        "outputId": "832c0aab-3a35-4ded-b883-316ad642a325"
      },
      "source": [
        "nuevo"
      ],
      "execution_count": null,
      "outputs": [
        {
          "output_type": "display_data",
          "data": {
            "text/plain": [
              "  n1   n2   n3   n4   n5   n6   n7           \n",
              "   1    1 -999    3    5    8   13  100  200 "
            ],
            "text/latex": "\\begin{description*}\n\\item[n1] 1\n\\item[n2] 1\n\\item[n3] -999\n\\item[n4] 3\n\\item[n5] 5\n\\item[n6] 8\n\\item[n7] 13\n\\item[8] 100\n\\item[9] 200\n\\end{description*}\n",
            "text/markdown": "n1\n:   1n2\n:   1n3\n:   -999n4\n:   3n5\n:   5n6\n:   8n7\n:   138\n:   1009\n:   200\n\n",
            "text/html": [
              "<style>\n",
              ".dl-inline {width: auto; margin:0; padding: 0}\n",
              ".dl-inline>dt, .dl-inline>dd {float: none; width: auto; display: inline-block}\n",
              ".dl-inline>dt::after {content: \":\\0020\"; padding-right: .5ex}\n",
              ".dl-inline>dt:not(:first-of-type) {padding-left: .5ex}\n",
              "</style><dl class=dl-inline><dt>n1</dt><dd>1</dd><dt>n2</dt><dd>1</dd><dt>n3</dt><dd>-999</dd><dt>n4</dt><dd>3</dd><dt>n5</dt><dd>5</dd><dt>n6</dt><dd>8</dd><dt>n7</dt><dd>13</dd><dt>8</dt><dd>100</dd><dt>9</dt><dd>200</dd></dl>\n"
            ]
          },
          "metadata": {
            "tags": []
          }
        }
      ]
    },
    {
      "cell_type": "code",
      "metadata": {
        "id": "cVzhj4ASIgvb"
      },
      "source": [
        "# podemos cambiar uno de los nombres (ej, queremos cambiar el octavo  y noveno nombre)\n",
        "names(nuevo)[c(8,9)] <- c(\"nombre_8\", \"nombre_9\")"
      ],
      "execution_count": null,
      "outputs": []
    },
    {
      "cell_type": "code",
      "metadata": {
        "id": "Whon_PGSmJPM",
        "colab": {
          "base_uri": "https://localhost:8080/",
          "height": 35
        },
        "outputId": "86a28cd6-004e-4642-c8d4-c026c88799c5"
      },
      "source": [
        "nuevo"
      ],
      "execution_count": null,
      "outputs": [
        {
          "output_type": "display_data",
          "data": {
            "text/plain": [
              "      n1       n2       n3       n4       n5       n6       n7 nombre_8 \n",
              "       1        1     -999        3        5        8       13      100 \n",
              "nombre_9 \n",
              "     200 "
            ],
            "text/latex": "\\begin{description*}\n\\item[n1] 1\n\\item[n2] 1\n\\item[n3] -999\n\\item[n4] 3\n\\item[n5] 5\n\\item[n6] 8\n\\item[n7] 13\n\\item[nombre\\textbackslash{}\\_8] 100\n\\item[nombre\\textbackslash{}\\_9] 200\n\\end{description*}\n",
            "text/markdown": "n1\n:   1n2\n:   1n3\n:   -999n4\n:   3n5\n:   5n6\n:   8n7\n:   13nombre_8\n:   100nombre_9\n:   200\n\n",
            "text/html": [
              "<style>\n",
              ".dl-inline {width: auto; margin:0; padding: 0}\n",
              ".dl-inline>dt, .dl-inline>dd {float: none; width: auto; display: inline-block}\n",
              ".dl-inline>dt::after {content: \":\\0020\"; padding-right: .5ex}\n",
              ".dl-inline>dt:not(:first-of-type) {padding-left: .5ex}\n",
              "</style><dl class=dl-inline><dt>n1</dt><dd>1</dd><dt>n2</dt><dd>1</dd><dt>n3</dt><dd>-999</dd><dt>n4</dt><dd>3</dd><dt>n5</dt><dd>5</dd><dt>n6</dt><dd>8</dd><dt>n7</dt><dd>13</dd><dt>nombre_8</dt><dd>100</dd><dt>nombre_9</dt><dd>200</dd></dl>\n"
            ]
          },
          "metadata": {
            "tags": []
          }
        }
      ]
    },
    {
      "cell_type": "code",
      "metadata": {
        "id": "b6oqx_D4Igvd"
      },
      "source": [
        "# podemos modificar varias posiciones a la vez\n",
        "# queremos re-asignar los valores NA y NA en las posiciones 3 y 7 respecivamente\n",
        "nuevo[c(3,7)] <- c(NA,NA)"
      ],
      "execution_count": null,
      "outputs": []
    },
    {
      "cell_type": "code",
      "metadata": {
        "id": "3WQkxgfJmefM",
        "colab": {
          "base_uri": "https://localhost:8080/",
          "height": 35
        },
        "outputId": "f04f19d4-464f-4574-a4ed-84106a2ee8ed"
      },
      "source": [
        "nuevo"
      ],
      "execution_count": null,
      "outputs": [
        {
          "output_type": "display_data",
          "data": {
            "text/plain": [
              "      n1       n2       n3       n4       n5       n6       n7 nombre_8 \n",
              "       1        1       NA        3        5        8       NA      100 \n",
              "nombre_9 \n",
              "     200 "
            ],
            "text/latex": "\\begin{description*}\n\\item[n1] 1\n\\item[n2] 1\n\\item[n3] <NA>\n\\item[n4] 3\n\\item[n5] 5\n\\item[n6] 8\n\\item[n7] <NA>\n\\item[nombre\\textbackslash{}\\_8] 100\n\\item[nombre\\textbackslash{}\\_9] 200\n\\end{description*}\n",
            "text/markdown": "n1\n:   1n2\n:   1n3\n:   &lt;NA&gt;n4\n:   3n5\n:   5n6\n:   8n7\n:   &lt;NA&gt;nombre_8\n:   100nombre_9\n:   200\n\n",
            "text/html": [
              "<style>\n",
              ".dl-inline {width: auto; margin:0; padding: 0}\n",
              ".dl-inline>dt, .dl-inline>dd {float: none; width: auto; display: inline-block}\n",
              ".dl-inline>dt::after {content: \":\\0020\"; padding-right: .5ex}\n",
              ".dl-inline>dt:not(:first-of-type) {padding-left: .5ex}\n",
              "</style><dl class=dl-inline><dt>n1</dt><dd>1</dd><dt>n2</dt><dd>1</dd><dt>n3</dt><dd>&lt;NA&gt;</dd><dt>n4</dt><dd>3</dd><dt>n5</dt><dd>5</dd><dt>n6</dt><dd>8</dd><dt>n7</dt><dd>&lt;NA&gt;</dd><dt>nombre_8</dt><dd>100</dd><dt>nombre_9</dt><dd>200</dd></dl>\n"
            ]
          },
          "metadata": {
            "tags": []
          }
        }
      ]
    },
    {
      "cell_type": "code",
      "metadata": {
        "id": "cCECuMuPmUoj"
      },
      "source": [
        "nuevo[3] <- \"HOLA\""
      ],
      "execution_count": null,
      "outputs": []
    },
    {
      "cell_type": "code",
      "metadata": {
        "id": "j1JoI1T0mlXj",
        "colab": {
          "base_uri": "https://localhost:8080/",
          "height": 35
        },
        "outputId": "f184d276-02c8-4392-fbea-5518cbf45e46"
      },
      "source": [
        "nuevo"
      ],
      "execution_count": null,
      "outputs": [
        {
          "output_type": "display_data",
          "data": {
            "text/plain": [
              "      n1       n2       n3       n4       n5       n6       n7 nombre_8 \n",
              "     \"1\"      \"1\"   \"HOLA\"      \"3\"      \"5\"      \"8\"       NA    \"100\" \n",
              "nombre_9 \n",
              "   \"200\" "
            ],
            "text/latex": "\\begin{description*}\n\\item[n1] '1'\n\\item[n2] '1'\n\\item[n3] 'HOLA'\n\\item[n4] '3'\n\\item[n5] '5'\n\\item[n6] '8'\n\\item[n7] NA\n\\item[nombre\\textbackslash{}\\_8] '100'\n\\item[nombre\\textbackslash{}\\_9] '200'\n\\end{description*}\n",
            "text/markdown": "n1\n:   '1'n2\n:   '1'n3\n:   'HOLA'n4\n:   '3'n5\n:   '5'n6\n:   '8'n7\n:   NAnombre_8\n:   '100'nombre_9\n:   '200'\n\n",
            "text/html": [
              "<style>\n",
              ".dl-inline {width: auto; margin:0; padding: 0}\n",
              ".dl-inline>dt, .dl-inline>dd {float: none; width: auto; display: inline-block}\n",
              ".dl-inline>dt::after {content: \":\\0020\"; padding-right: .5ex}\n",
              ".dl-inline>dt:not(:first-of-type) {padding-left: .5ex}\n",
              "</style><dl class=dl-inline><dt>n1</dt><dd>'1'</dd><dt>n2</dt><dd>'1'</dd><dt>n3</dt><dd>'HOLA'</dd><dt>n4</dt><dd>'3'</dd><dt>n5</dt><dd>'5'</dd><dt>n6</dt><dd>'8'</dd><dt>n7</dt><dd>NA</dd><dt>nombre_8</dt><dd>'100'</dd><dt>nombre_9</dt><dd>'200'</dd></dl>\n"
            ]
          },
          "metadata": {
            "tags": []
          }
        }
      ]
    },
    {
      "cell_type": "code",
      "metadata": {
        "id": "6190xjXgmryv",
        "colab": {
          "base_uri": "https://localhost:8080/",
          "height": 35
        },
        "outputId": "d411a6bc-c48e-4999-b2c9-88ece1e4014a"
      },
      "source": [
        "class(nuevo)"
      ],
      "execution_count": null,
      "outputs": [
        {
          "output_type": "display_data",
          "data": {
            "text/plain": [
              "[1] \"character\""
            ],
            "text/latex": "'character'",
            "text/markdown": "'character'",
            "text/html": [
              "'character'"
            ]
          },
          "metadata": {
            "tags": []
          }
        }
      ]
    },
    {
      "cell_type": "markdown",
      "metadata": {
        "id": "XzyIBLZxIgvg"
      },
      "source": [
        "**Algunas sentencias de utilidad**\n",
        "\n",
        "También es posible acceder a los alementos de un vector mediante sentencias lógicas que retornen \"TRUE\" en la posición deseada. Para ello algunas funciones que son de utilidad son las siguientes.\n",
        "\n",
        "   **Conectores lógicos**\n",
        "\n",
        "    &                        : conector y \n",
        "    |                        : conector o\n",
        "    ==                       : igual\n",
        "    !                        : negación\n",
        "    !=                       : distinto\n",
        "    >, >=                    : mayor que, mayor o igual que\n",
        "    <,<=                     : menor que, menor o igual que\n",
        "    is.na()                  : es NA?\n",
        "    which()                  : en qué posición es verdadera la expresión evaluada?\n",
        "    which.min(), which.max() : en qué posición se alcanza el mínimi/máximo\n",
        "    %in%                     : los elementos están en?\n",
        "    \n",
        "    "
      ]
    },
    {
      "cell_type": "code",
      "metadata": {
        "id": "nOYbev-lAlF6"
      },
      "source": [
        "vect_z <- c(\"buen\",\"día\",\"hoy\",\"es\",\"miércoles\")\n",
        "vect_w <- c(1,2,3,7,9,10,30)"
      ],
      "execution_count": null,
      "outputs": []
    },
    {
      "cell_type": "code",
      "metadata": {
        "id": "NhZPJo56Igvh",
        "colab": {
          "base_uri": "https://localhost:8080/",
          "height": 52
        },
        "outputId": "e4528b06-d593-43ad-fed9-710edbe2b232"
      },
      "source": [
        "# para acceder a elementos de un vector tenemos:}\n",
        "# 1. por posicion\n",
        "# 2. por nombre\n",
        "# 3. por indicatrices lógicas (un vector con TRUE (T) o FALSE (F) del mismo largo del que quiero consultar)\n",
        "\n",
        "ind_z <- c(F,T,F,T,F) # debe ser del mismo largo que el vector a consultar.\n",
        "vect_z[ind_z] # Retorna los elementos donde los valores del vector de indicatrices lógicas es TRUE\n",
        "\n",
        "\n",
        "\n"
      ],
      "execution_count": null,
      "outputs": [
        {
          "output_type": "display_data",
          "data": {
            "text/plain": [
              "[1] \"día\" \"es\" "
            ],
            "text/latex": "\\begin{enumerate*}\n\\item 'día'\n\\item 'es'\n\\end{enumerate*}\n",
            "text/markdown": "1. 'día'\n2. 'es'\n\n\n",
            "text/html": [
              "<style>\n",
              ".list-inline {list-style: none; margin:0; padding: 0}\n",
              ".list-inline>li {display: inline-block}\n",
              ".list-inline>li:not(:last-child)::after {content: \"\\00b7\"; padding: 0 .5ex}\n",
              "</style>\n",
              "<ol class=list-inline><li>'día'</li><li>'es'</li></ol>\n"
            ]
          },
          "metadata": {
            "tags": []
          }
        },
        {
          "output_type": "display_data",
          "data": {
            "text/plain": [
              "[1] \"día\" \"es\" "
            ],
            "text/latex": "\\begin{enumerate*}\n\\item 'día'\n\\item 'es'\n\\end{enumerate*}\n",
            "text/markdown": "1. 'día'\n2. 'es'\n\n\n",
            "text/html": [
              "<style>\n",
              ".list-inline {list-style: none; margin:0; padding: 0}\n",
              ".list-inline>li {display: inline-block}\n",
              ".list-inline>li:not(:last-child)::after {content: \"\\00b7\"; padding: 0 .5ex}\n",
              "</style>\n",
              "<ol class=list-inline><li>'día'</li><li>'es'</li></ol>\n"
            ]
          },
          "metadata": {
            "tags": []
          }
        }
      ]
    },
    {
      "cell_type": "code",
      "metadata": {
        "id": "5C4hDsvSIgvj",
        "colab": {
          "base_uri": "https://localhost:8080/",
          "height": 35
        },
        "outputId": "1faf5ce5-94b1-4be5-c14e-e05d4b129d10"
      },
      "source": [
        "# Esto facilita la búsqueda dentro de un un vector. Ej: retornar los elementos de vect_w mayores a 8\n",
        "\n",
        "vect_w > 8 # Esto ya nos retorna el vector de indicatrices lógicas.\n"
      ],
      "execution_count": null,
      "outputs": [
        {
          "output_type": "display_data",
          "data": {
            "text/plain": [
              "[1] FALSE FALSE FALSE FALSE  TRUE  TRUE  TRUE"
            ],
            "text/latex": "\\begin{enumerate*}\n\\item FALSE\n\\item FALSE\n\\item FALSE\n\\item FALSE\n\\item TRUE\n\\item TRUE\n\\item TRUE\n\\end{enumerate*}\n",
            "text/markdown": "1. FALSE\n2. FALSE\n3. FALSE\n4. FALSE\n5. TRUE\n6. TRUE\n7. TRUE\n\n\n",
            "text/html": [
              "<style>\n",
              ".list-inline {list-style: none; margin:0; padding: 0}\n",
              ".list-inline>li {display: inline-block}\n",
              ".list-inline>li:not(:last-child)::after {content: \"\\00b7\"; padding: 0 .5ex}\n",
              "</style>\n",
              "<ol class=list-inline><li>FALSE</li><li>FALSE</li><li>FALSE</li><li>FALSE</li><li>TRUE</li><li>TRUE</li><li>TRUE</li></ol>\n"
            ]
          },
          "metadata": {
            "tags": []
          }
        }
      ]
    },
    {
      "cell_type": "code",
      "metadata": {
        "colab": {
          "base_uri": "https://localhost:8080/",
          "height": 35
        },
        "id": "yp--2jSaCtyk",
        "outputId": "7cc37b70-d90a-4906-8c4b-c764975a0f7c"
      },
      "source": [
        "vect_w[vect_w > 8] # Con esto podemos obtener las entradas que son mayores a 8."
      ],
      "execution_count": null,
      "outputs": [
        {
          "output_type": "display_data",
          "data": {
            "text/plain": [
              "[1]  9 10 30"
            ],
            "text/latex": "\\begin{enumerate*}\n\\item 9\n\\item 10\n\\item 30\n\\end{enumerate*}\n",
            "text/markdown": "1. 9\n2. 10\n3. 30\n\n\n",
            "text/html": [
              "<style>\n",
              ".list-inline {list-style: none; margin:0; padding: 0}\n",
              ".list-inline>li {display: inline-block}\n",
              ".list-inline>li:not(:last-child)::after {content: \"\\00b7\"; padding: 0 .5ex}\n",
              "</style>\n",
              "<ol class=list-inline><li>9</li><li>10</li><li>30</li></ol>\n"
            ]
          },
          "metadata": {
            "tags": []
          }
        }
      ]
    },
    {
      "cell_type": "code",
      "metadata": {
        "colab": {
          "base_uri": "https://localhost:8080/",
          "height": 52
        },
        "id": "DXriIpA-C1dU",
        "outputId": "05d33fcc-207a-47fb-cb87-856ebb0a5822"
      },
      "source": [
        "# Y si queremos retornar los casos donde NO es mayor a 8.\n",
        "vect_w[vect_w <= 8]\n",
        "vect_w[!(vect_w > 8)] # Estamos negando la expresión (vect_w > 8)"
      ],
      "execution_count": null,
      "outputs": [
        {
          "output_type": "display_data",
          "data": {
            "text/plain": [
              "[1] 1 2 3 7"
            ],
            "text/latex": "\\begin{enumerate*}\n\\item 1\n\\item 2\n\\item 3\n\\item 7\n\\end{enumerate*}\n",
            "text/markdown": "1. 1\n2. 2\n3. 3\n4. 7\n\n\n",
            "text/html": [
              "<style>\n",
              ".list-inline {list-style: none; margin:0; padding: 0}\n",
              ".list-inline>li {display: inline-block}\n",
              ".list-inline>li:not(:last-child)::after {content: \"\\00b7\"; padding: 0 .5ex}\n",
              "</style>\n",
              "<ol class=list-inline><li>1</li><li>2</li><li>3</li><li>7</li></ol>\n"
            ]
          },
          "metadata": {
            "tags": []
          }
        },
        {
          "output_type": "display_data",
          "data": {
            "text/plain": [
              "[1] 1 2 3 7"
            ],
            "text/latex": "\\begin{enumerate*}\n\\item 1\n\\item 2\n\\item 3\n\\item 7\n\\end{enumerate*}\n",
            "text/markdown": "1. 1\n2. 2\n3. 3\n4. 7\n\n\n",
            "text/html": [
              "<style>\n",
              ".list-inline {list-style: none; margin:0; padding: 0}\n",
              ".list-inline>li {display: inline-block}\n",
              ".list-inline>li:not(:last-child)::after {content: \"\\00b7\"; padding: 0 .5ex}\n",
              "</style>\n",
              "<ol class=list-inline><li>1</li><li>2</li><li>3</li><li>7</li></ol>\n"
            ]
          },
          "metadata": {
            "tags": []
          }
        }
      ]
    },
    {
      "cell_type": "code",
      "metadata": {
        "id": "EDJUEto3FqKv"
      },
      "source": [
        "vect_w <- c(1,2,3,7,30,10,30)"
      ],
      "execution_count": null,
      "outputs": []
    },
    {
      "cell_type": "code",
      "metadata": {
        "id": "ioUJy8UEIgvz",
        "colab": {
          "base_uri": "https://localhost:8080/",
          "height": 69
        },
        "outputId": "f7870125-0ede-428b-f74b-f150b94ddca5"
      },
      "source": [
        "#?which.max , retorna el índice donde se alcanza el primer máximo de nuestro vector (arreglo) numérico\n",
        "\n",
        "which.max(vect_w) # El 7 corresponde a la posición dónde se alcanza el máximo valor\n",
        "\n",
        "vect_w[which.max(vect_w)] # Esto es la versión difícil de preguntarse por el max(vect_w)\n",
        "max(vect_w)\n",
        "\n",
        "\n"
      ],
      "execution_count": null,
      "outputs": [
        {
          "output_type": "display_data",
          "data": {
            "text/plain": [
              "[1] 5"
            ],
            "text/latex": "5",
            "text/markdown": "5",
            "text/html": [
              "5"
            ]
          },
          "metadata": {
            "tags": []
          }
        },
        {
          "output_type": "display_data",
          "data": {
            "text/plain": [
              "[1] 30"
            ],
            "text/latex": "30",
            "text/markdown": "30",
            "text/html": [
              "30"
            ]
          },
          "metadata": {
            "tags": []
          }
        },
        {
          "output_type": "display_data",
          "data": {
            "text/plain": [
              "[1] 30"
            ],
            "text/latex": "30",
            "text/markdown": "30",
            "text/html": [
              "30"
            ]
          },
          "metadata": {
            "tags": []
          }
        }
      ]
    },
    {
      "cell_type": "code",
      "metadata": {
        "colab": {
          "base_uri": "https://localhost:8080/",
          "height": 35
        },
        "id": "81DaLKgGFzdc",
        "outputId": "4857c831-a9ef-433a-9933-18de1602e62f"
      },
      "source": [
        "# Pero si quisiéramos los 2\n",
        "vect_w[vect_w == max(vect_w)]"
      ],
      "execution_count": null,
      "outputs": [
        {
          "output_type": "display_data",
          "data": {
            "text/plain": [
              "[1] 30 30"
            ],
            "text/latex": "\\begin{enumerate*}\n\\item 30\n\\item 30\n\\end{enumerate*}\n",
            "text/markdown": "1. 30\n2. 30\n\n\n",
            "text/html": [
              "<style>\n",
              ".list-inline {list-style: none; margin:0; padding: 0}\n",
              ".list-inline>li {display: inline-block}\n",
              ".list-inline>li:not(:last-child)::after {content: \"\\00b7\"; padding: 0 .5ex}\n",
              "</style>\n",
              "<ol class=list-inline><li>30</li><li>30</li></ol>\n"
            ]
          },
          "metadata": {
            "tags": []
          }
        }
      ]
    },
    {
      "cell_type": "code",
      "metadata": {
        "id": "fmJwhHohEcdn"
      },
      "source": [
        "# Ejemplo \n",
        "ventas <- rnorm(100, mean = 1000, 10)"
      ],
      "execution_count": null,
      "outputs": []
    },
    {
      "cell_type": "code",
      "metadata": {
        "colab": {
          "base_uri": "https://localhost:8080/",
          "height": 173
        },
        "id": "4JATFaV4EoKa",
        "outputId": "a6b9159b-37b8-4287-dc64-22b53ca7aa24"
      },
      "source": [
        "ventas"
      ],
      "execution_count": null,
      "outputs": [
        {
          "output_type": "display_data",
          "data": {
            "text/plain": [
              "  [1] 1007.8164 1000.0580  996.9614  993.7120 1004.6572  989.8658  997.6143\n",
              "  [8]  994.1390  986.1199 1005.1526 1005.7622 1004.0804 1005.6642 1005.6899\n",
              " [15]  981.6944 1005.7131  982.7296 1002.7812 1001.9576 1010.9550  991.3863\n",
              " [22]  996.3688 1008.7565 1010.8590 1007.3835  996.5167  991.6309 1008.3843\n",
              " [29] 1005.5404  994.9794  987.5547  991.7110 1002.1614 1013.9745 1003.1399\n",
              " [36] 1002.3956 1008.8173 1019.2450  987.2560  997.2409 1011.3927 1029.2830\n",
              " [43] 1007.0807 1018.0320  999.7184  994.4520 1007.7057 1012.5017 1008.0059\n",
              " [50]  998.3020  985.1069 1008.7986  988.8773  998.5093  985.3380  986.2006\n",
              " [57]  993.6169  996.1267  988.0839 1006.8220 1001.1550 1002.8746 1006.0484\n",
              " [64] 1001.7944  984.3428  984.0166  989.8340 1008.3343 1001.3404  990.0433\n",
              " [71] 1003.2906  999.8774  997.9508 1008.5598  998.0670 1002.1479 1003.6968\n",
              " [78] 1003.2647 1002.8955  993.3718 1001.6188  990.1934  994.0182  998.2813\n",
              " [85]  988.9115 1006.6857  984.7971 1002.8071  994.7275  992.5985  990.2390\n",
              " [92] 1001.5664  988.5788 1005.8770 1019.8566  993.2789  999.2989  983.3587\n",
              " [99]  985.4872  998.6632"
            ],
            "text/latex": "\\begin{enumerate*}\n\\item 1007.81637968064\n\\item 1000.05800760338\n\\item 996.961426886826\n\\item 993.712011754141\n\\item 1004.65722582574\n\\item 989.865768553224\n\\item 997.614264216376\n\\item 994.139030323296\n\\item 986.119887468649\n\\item 1005.1525633815\n\\item 1005.76220174527\n\\item 1004.08037260466\n\\item 1005.66419219892\n\\item 1005.6898896723\n\\item 981.694357112446\n\\item 1005.71310238393\n\\item 982.729608757107\n\\item 1002.78116516613\n\\item 1001.95764088792\n\\item 1010.95502110458\n\\item 991.386318521081\n\\item 996.368781448431\n\\item 1008.75651778127\n\\item 1010.85903985952\n\\item 1007.38354330929\n\\item 996.516670459005\n\\item 991.630868177736\n\\item 1008.38429993659\n\\item 1005.54040785475\n\\item 994.979419829353\n\\item 987.554738910583\n\\item 991.710954056849\n\\item 1002.16143561138\n\\item 1013.97451013267\n\\item 1003.13986973734\n\\item 1002.39561788\n\\item 1008.8172874437\n\\item 1019.24495421413\n\\item 987.256018538177\n\\item 997.240948173059\n\\item 1011.3927112031\n\\item 1029.28298179203\n\\item 1007.08068018362\n\\item 1018.03198131032\n\\item 999.718367578188\n\\item 994.451954788452\n\\item 1007.70569145352\n\\item 1012.50174738243\n\\item 1008.00594780411\n\\item 998.302042725073\n\\item 985.106886192232\n\\item 1008.79863970447\n\\item 988.877270719081\n\\item 998.509349472383\n\\item 985.338005552799\n\\item 986.200602306714\n\\item 993.616879812218\n\\item 996.126729949573\n\\item 988.083896675225\n\\item 1006.82197237028\n\\item 1001.15495222409\n\\item 1002.87455680815\n\\item 1006.04842275232\n\\item 1001.7944013828\n\\item 984.342795231746\n\\item 984.016553259109\n\\item 989.833993603891\n\\item 1008.33434837714\n\\item 1001.3403667647\n\\item 990.043315436807\n\\item 1003.29060449219\n\\item 999.877405568077\n\\item 997.950802256769\n\\item 1008.55981076759\n\\item 998.066952513944\n\\item 1002.14788354169\n\\item 1003.69683198694\n\\item 1003.26466067861\n\\item 1002.89553841711\n\\item 993.371755782186\n\\item 1001.61880115093\n\\item 990.193409353209\n\\item 994.018172169376\n\\item 998.281267935376\n\\item 988.911462501886\n\\item 1006.6856773008\n\\item 984.797068897978\n\\item 1002.80712241426\n\\item 994.727527287438\n\\item 992.598540874924\n\\item 990.239003318374\n\\item 1001.56640917504\n\\item 988.578846572475\n\\item 1005.87696049548\n\\item 1019.85660005542\n\\item 993.278869445286\n\\item 999.298907450481\n\\item 983.358657480741\n\\item 985.487230567337\n\\item 998.663176486842\n\\end{enumerate*}\n",
            "text/markdown": "1. 1007.81637968064\n2. 1000.05800760338\n3. 996.961426886826\n4. 993.712011754141\n5. 1004.65722582574\n6. 989.865768553224\n7. 997.614264216376\n8. 994.139030323296\n9. 986.119887468649\n10. 1005.1525633815\n11. 1005.76220174527\n12. 1004.08037260466\n13. 1005.66419219892\n14. 1005.6898896723\n15. 981.694357112446\n16. 1005.71310238393\n17. 982.729608757107\n18. 1002.78116516613\n19. 1001.95764088792\n20. 1010.95502110458\n21. 991.386318521081\n22. 996.368781448431\n23. 1008.75651778127\n24. 1010.85903985952\n25. 1007.38354330929\n26. 996.516670459005\n27. 991.630868177736\n28. 1008.38429993659\n29. 1005.54040785475\n30. 994.979419829353\n31. 987.554738910583\n32. 991.710954056849\n33. 1002.16143561138\n34. 1013.97451013267\n35. 1003.13986973734\n36. 1002.39561788\n37. 1008.8172874437\n38. 1019.24495421413\n39. 987.256018538177\n40. 997.240948173059\n41. 1011.3927112031\n42. 1029.28298179203\n43. 1007.08068018362\n44. 1018.03198131032\n45. 999.718367578188\n46. 994.451954788452\n47. 1007.70569145352\n48. 1012.50174738243\n49. 1008.00594780411\n50. 998.302042725073\n51. 985.106886192232\n52. 1008.79863970447\n53. 988.877270719081\n54. 998.509349472383\n55. 985.338005552799\n56. 986.200602306714\n57. 993.616879812218\n58. 996.126729949573\n59. 988.083896675225\n60. 1006.82197237028\n61. 1001.15495222409\n62. 1002.87455680815\n63. 1006.04842275232\n64. 1001.7944013828\n65. 984.342795231746\n66. 984.016553259109\n67. 989.833993603891\n68. 1008.33434837714\n69. 1001.3403667647\n70. 990.043315436807\n71. 1003.29060449219\n72. 999.877405568077\n73. 997.950802256769\n74. 1008.55981076759\n75. 998.066952513944\n76. 1002.14788354169\n77. 1003.69683198694\n78. 1003.26466067861\n79. 1002.89553841711\n80. 993.371755782186\n81. 1001.61880115093\n82. 990.193409353209\n83. 994.018172169376\n84. 998.281267935376\n85. 988.911462501886\n86. 1006.6856773008\n87. 984.797068897978\n88. 1002.80712241426\n89. 994.727527287438\n90. 992.598540874924\n91. 990.239003318374\n92. 1001.56640917504\n93. 988.578846572475\n94. 1005.87696049548\n95. 1019.85660005542\n96. 993.278869445286\n97. 999.298907450481\n98. 983.358657480741\n99. 985.487230567337\n100. 998.663176486842\n\n\n",
            "text/html": [
              "<style>\n",
              ".list-inline {list-style: none; margin:0; padding: 0}\n",
              ".list-inline>li {display: inline-block}\n",
              ".list-inline>li:not(:last-child)::after {content: \"\\00b7\"; padding: 0 .5ex}\n",
              "</style>\n",
              "<ol class=list-inline><li>1007.81637968064</li><li>1000.05800760338</li><li>996.961426886826</li><li>993.712011754141</li><li>1004.65722582574</li><li>989.865768553224</li><li>997.614264216376</li><li>994.139030323296</li><li>986.119887468649</li><li>1005.1525633815</li><li>1005.76220174527</li><li>1004.08037260466</li><li>1005.66419219892</li><li>1005.6898896723</li><li>981.694357112446</li><li>1005.71310238393</li><li>982.729608757107</li><li>1002.78116516613</li><li>1001.95764088792</li><li>1010.95502110458</li><li>991.386318521081</li><li>996.368781448431</li><li>1008.75651778127</li><li>1010.85903985952</li><li>1007.38354330929</li><li>996.516670459005</li><li>991.630868177736</li><li>1008.38429993659</li><li>1005.54040785475</li><li>994.979419829353</li><li>987.554738910583</li><li>991.710954056849</li><li>1002.16143561138</li><li>1013.97451013267</li><li>1003.13986973734</li><li>1002.39561788</li><li>1008.8172874437</li><li>1019.24495421413</li><li>987.256018538177</li><li>997.240948173059</li><li>1011.3927112031</li><li>1029.28298179203</li><li>1007.08068018362</li><li>1018.03198131032</li><li>999.718367578188</li><li>994.451954788452</li><li>1007.70569145352</li><li>1012.50174738243</li><li>1008.00594780411</li><li>998.302042725073</li><li>985.106886192232</li><li>1008.79863970447</li><li>988.877270719081</li><li>998.509349472383</li><li>985.338005552799</li><li>986.200602306714</li><li>993.616879812218</li><li>996.126729949573</li><li>988.083896675225</li><li>1006.82197237028</li><li>1001.15495222409</li><li>1002.87455680815</li><li>1006.04842275232</li><li>1001.7944013828</li><li>984.342795231746</li><li>984.016553259109</li><li>989.833993603891</li><li>1008.33434837714</li><li>1001.3403667647</li><li>990.043315436807</li><li>1003.29060449219</li><li>999.877405568077</li><li>997.950802256769</li><li>1008.55981076759</li><li>998.066952513944</li><li>1002.14788354169</li><li>1003.69683198694</li><li>1003.26466067861</li><li>1002.89553841711</li><li>993.371755782186</li><li>1001.61880115093</li><li>990.193409353209</li><li>994.018172169376</li><li>998.281267935376</li><li>988.911462501886</li><li>1006.6856773008</li><li>984.797068897978</li><li>1002.80712241426</li><li>994.727527287438</li><li>992.598540874924</li><li>990.239003318374</li><li>1001.56640917504</li><li>988.578846572475</li><li>1005.87696049548</li><li>1019.85660005542</li><li>993.278869445286</li><li>999.298907450481</li><li>983.358657480741</li><li>985.487230567337</li><li>998.663176486842</li></ol>\n"
            ]
          },
          "metadata": {
            "tags": []
          }
        }
      ]
    },
    {
      "cell_type": "code",
      "metadata": {
        "colab": {
          "base_uri": "https://localhost:8080/",
          "height": 52
        },
        "id": "vL1rZjL1E4Z4",
        "outputId": "5cf03571-2d3b-4a3f-d9b5-523833a11bb8"
      },
      "source": [
        "tiempo <- sample(100)"
      ],
      "execution_count": null,
      "outputs": [
        {
          "output_type": "display_data",
          "data": {
            "text/plain": [
              "  [1]  36  70  77  66  30  14  23  16  39  27  62  98  90  97  50  58  85  38\n",
              " [19]  93  72  43  74  47  82  91  33  89   6  17   1  45  48   2  64  10   3\n",
              " [37]  63  55  46   4  19  68  67  59  86  18  54  78  15  37  56  49  71  22\n",
              " [55]  28 100  88  87  20  61  96  76  84  24  32  73  31  69   9  94  83  57\n",
              " [73]  35  11  65  40  60   5  99  41  51  75  95  29  92  81  13  53   7  21\n",
              " [91]  34   8  44  12  26  80  25  42  52  79"
            ],
            "text/latex": "\\begin{enumerate*}\n\\item 36\n\\item 70\n\\item 77\n\\item 66\n\\item 30\n\\item 14\n\\item 23\n\\item 16\n\\item 39\n\\item 27\n\\item 62\n\\item 98\n\\item 90\n\\item 97\n\\item 50\n\\item 58\n\\item 85\n\\item 38\n\\item 93\n\\item 72\n\\item 43\n\\item 74\n\\item 47\n\\item 82\n\\item 91\n\\item 33\n\\item 89\n\\item 6\n\\item 17\n\\item 1\n\\item 45\n\\item 48\n\\item 2\n\\item 64\n\\item 10\n\\item 3\n\\item 63\n\\item 55\n\\item 46\n\\item 4\n\\item 19\n\\item 68\n\\item 67\n\\item 59\n\\item 86\n\\item 18\n\\item 54\n\\item 78\n\\item 15\n\\item 37\n\\item 56\n\\item 49\n\\item 71\n\\item 22\n\\item 28\n\\item 100\n\\item 88\n\\item 87\n\\item 20\n\\item 61\n\\item 96\n\\item 76\n\\item 84\n\\item 24\n\\item 32\n\\item 73\n\\item 31\n\\item 69\n\\item 9\n\\item 94\n\\item 83\n\\item 57\n\\item 35\n\\item 11\n\\item 65\n\\item 40\n\\item 60\n\\item 5\n\\item 99\n\\item 41\n\\item 51\n\\item 75\n\\item 95\n\\item 29\n\\item 92\n\\item 81\n\\item 13\n\\item 53\n\\item 7\n\\item 21\n\\item 34\n\\item 8\n\\item 44\n\\item 12\n\\item 26\n\\item 80\n\\item 25\n\\item 42\n\\item 52\n\\item 79\n\\end{enumerate*}\n",
            "text/markdown": "1. 36\n2. 70\n3. 77\n4. 66\n5. 30\n6. 14\n7. 23\n8. 16\n9. 39\n10. 27\n11. 62\n12. 98\n13. 90\n14. 97\n15. 50\n16. 58\n17. 85\n18. 38\n19. 93\n20. 72\n21. 43\n22. 74\n23. 47\n24. 82\n25. 91\n26. 33\n27. 89\n28. 6\n29. 17\n30. 1\n31. 45\n32. 48\n33. 2\n34. 64\n35. 10\n36. 3\n37. 63\n38. 55\n39. 46\n40. 4\n41. 19\n42. 68\n43. 67\n44. 59\n45. 86\n46. 18\n47. 54\n48. 78\n49. 15\n50. 37\n51. 56\n52. 49\n53. 71\n54. 22\n55. 28\n56. 100\n57. 88\n58. 87\n59. 20\n60. 61\n61. 96\n62. 76\n63. 84\n64. 24\n65. 32\n66. 73\n67. 31\n68. 69\n69. 9\n70. 94\n71. 83\n72. 57\n73. 35\n74. 11\n75. 65\n76. 40\n77. 60\n78. 5\n79. 99\n80. 41\n81. 51\n82. 75\n83. 95\n84. 29\n85. 92\n86. 81\n87. 13\n88. 53\n89. 7\n90. 21\n91. 34\n92. 8\n93. 44\n94. 12\n95. 26\n96. 80\n97. 25\n98. 42\n99. 52\n100. 79\n\n\n",
            "text/html": [
              "<style>\n",
              ".list-inline {list-style: none; margin:0; padding: 0}\n",
              ".list-inline>li {display: inline-block}\n",
              ".list-inline>li:not(:last-child)::after {content: \"\\00b7\"; padding: 0 .5ex}\n",
              "</style>\n",
              "<ol class=list-inline><li>36</li><li>70</li><li>77</li><li>66</li><li>30</li><li>14</li><li>23</li><li>16</li><li>39</li><li>27</li><li>62</li><li>98</li><li>90</li><li>97</li><li>50</li><li>58</li><li>85</li><li>38</li><li>93</li><li>72</li><li>43</li><li>74</li><li>47</li><li>82</li><li>91</li><li>33</li><li>89</li><li>6</li><li>17</li><li>1</li><li>45</li><li>48</li><li>2</li><li>64</li><li>10</li><li>3</li><li>63</li><li>55</li><li>46</li><li>4</li><li>19</li><li>68</li><li>67</li><li>59</li><li>86</li><li>18</li><li>54</li><li>78</li><li>15</li><li>37</li><li>56</li><li>49</li><li>71</li><li>22</li><li>28</li><li>100</li><li>88</li><li>87</li><li>20</li><li>61</li><li>96</li><li>76</li><li>84</li><li>24</li><li>32</li><li>73</li><li>31</li><li>69</li><li>9</li><li>94</li><li>83</li><li>57</li><li>35</li><li>11</li><li>65</li><li>40</li><li>60</li><li>5</li><li>99</li><li>41</li><li>51</li><li>75</li><li>95</li><li>29</li><li>92</li><li>81</li><li>13</li><li>53</li><li>7</li><li>21</li><li>34</li><li>8</li><li>44</li><li>12</li><li>26</li><li>80</li><li>25</li><li>42</li><li>52</li><li>79</li></ol>\n"
            ]
          },
          "metadata": {
            "tags": []
          }
        }
      ]
    },
    {
      "cell_type": "code",
      "metadata": {
        "colab": {
          "base_uri": "https://localhost:8080/",
          "height": 35
        },
        "id": "VNpiHoEIEaaW",
        "outputId": "9afb78d5-210d-4d0a-84c5-0c0af6e04b02"
      },
      "source": [
        "ventas[ventas > 1010]"
      ],
      "execution_count": null,
      "outputs": [
        {
          "output_type": "display_data",
          "data": {
            "text/plain": [
              "[1] 1010.955 1010.859 1013.975 1019.245 1011.393 1029.283 1018.032 1012.502\n",
              "[9] 1019.857"
            ],
            "text/latex": "\\begin{enumerate*}\n\\item 1010.95502110458\n\\item 1010.85903985952\n\\item 1013.97451013267\n\\item 1019.24495421413\n\\item 1011.3927112031\n\\item 1029.28298179203\n\\item 1018.03198131032\n\\item 1012.50174738243\n\\item 1019.85660005542\n\\end{enumerate*}\n",
            "text/markdown": "1. 1010.95502110458\n2. 1010.85903985952\n3. 1013.97451013267\n4. 1019.24495421413\n5. 1011.3927112031\n6. 1029.28298179203\n7. 1018.03198131032\n8. 1012.50174738243\n9. 1019.85660005542\n\n\n",
            "text/html": [
              "<style>\n",
              ".list-inline {list-style: none; margin:0; padding: 0}\n",
              ".list-inline>li {display: inline-block}\n",
              ".list-inline>li:not(:last-child)::after {content: \"\\00b7\"; padding: 0 .5ex}\n",
              "</style>\n",
              "<ol class=list-inline><li>1010.95502110458</li><li>1010.85903985952</li><li>1013.97451013267</li><li>1019.24495421413</li><li>1011.3927112031</li><li>1029.28298179203</li><li>1018.03198131032</li><li>1012.50174738243</li><li>1019.85660005542</li></ol>\n"
            ]
          },
          "metadata": {
            "tags": []
          }
        }
      ]
    },
    {
      "cell_type": "code",
      "metadata": {
        "colab": {
          "base_uri": "https://localhost:8080/",
          "height": 35
        },
        "id": "tYlVtuZkFGI0",
        "outputId": "802f7afa-d453-4301-e4f0-0ed5f3aaff1a"
      },
      "source": [
        "# Los instantes de tiempo donde las ventas superaron los 1010 unidades\n",
        "tiempo[ventas > 1010] # NOTA IMPORTANTE: En este tipo de consultas ambos vectores (tiempo y ventas) deben ser del mismo largo"
      ],
      "execution_count": null,
      "outputs": [
        {
          "output_type": "display_data",
          "data": {
            "text/plain": [
              "[1] 72 82 64 55 19 68 59 78 26"
            ],
            "text/latex": "\\begin{enumerate*}\n\\item 72\n\\item 82\n\\item 64\n\\item 55\n\\item 19\n\\item 68\n\\item 59\n\\item 78\n\\item 26\n\\end{enumerate*}\n",
            "text/markdown": "1. 72\n2. 82\n3. 64\n4. 55\n5. 19\n6. 68\n7. 59\n8. 78\n9. 26\n\n\n",
            "text/html": [
              "<style>\n",
              ".list-inline {list-style: none; margin:0; padding: 0}\n",
              ".list-inline>li {display: inline-block}\n",
              ".list-inline>li:not(:last-child)::after {content: \"\\00b7\"; padding: 0 .5ex}\n",
              "</style>\n",
              "<ol class=list-inline><li>72</li><li>82</li><li>64</li><li>55</li><li>19</li><li>68</li><li>59</li><li>78</li><li>26</li></ol>\n"
            ]
          },
          "metadata": {
            "tags": []
          }
        }
      ]
    },
    {
      "cell_type": "code",
      "metadata": {
        "id": "_8-SMxfWIgv0",
        "colab": {
          "base_uri": "https://localhost:8080/",
          "height": 35
        },
        "outputId": "f0909979-2285-4248-d264-82b1627e589b"
      },
      "source": [
        "# Operador %in%\n",
        "# vector_a %in% vector_b (qué elementos del vector a están en el vector b)\n",
        "# retorna un  vector de TRUE's y FALSE's del largo del primer vector(a) (izquierda) \n",
        "v1 <- c(1,1,2,3,5,8)\n",
        "v2 <- c(1,10,8,5)\n",
        "v1 %in% v2 \n",
        "\n"
      ],
      "execution_count": null,
      "outputs": [
        {
          "output_type": "display_data",
          "data": {
            "text/plain": [
              "[1]  TRUE  TRUE FALSE FALSE  TRUE  TRUE"
            ],
            "text/latex": "\\begin{enumerate*}\n\\item TRUE\n\\item TRUE\n\\item FALSE\n\\item FALSE\n\\item TRUE\n\\item TRUE\n\\end{enumerate*}\n",
            "text/markdown": "1. TRUE\n2. TRUE\n3. FALSE\n4. FALSE\n5. TRUE\n6. TRUE\n\n\n",
            "text/html": [
              "<style>\n",
              ".list-inline {list-style: none; margin:0; padding: 0}\n",
              ".list-inline>li {display: inline-block}\n",
              ".list-inline>li:not(:last-child)::after {content: \"\\00b7\"; padding: 0 .5ex}\n",
              "</style>\n",
              "<ol class=list-inline><li>TRUE</li><li>TRUE</li><li>FALSE</li><li>FALSE</li><li>TRUE</li><li>TRUE</li></ol>\n"
            ]
          },
          "metadata": {
            "tags": []
          }
        }
      ]
    },
    {
      "cell_type": "code",
      "metadata": {
        "id": "Uy-pzOQgHqFm"
      },
      "source": [
        "indices_in <- v1 %in% v2"
      ],
      "execution_count": null,
      "outputs": []
    },
    {
      "cell_type": "code",
      "metadata": {
        "colab": {
          "base_uri": "https://localhost:8080/",
          "height": 35
        },
        "id": "pp3D8Cs8Hj-k",
        "outputId": "993e502d-4ce7-4a58-9ede-5e59b215983c"
      },
      "source": [
        "v1[indices_in]"
      ],
      "execution_count": null,
      "outputs": [
        {
          "output_type": "display_data",
          "data": {
            "text/plain": [
              "[1] 1 1 5 8"
            ],
            "text/latex": "\\begin{enumerate*}\n\\item 1\n\\item 1\n\\item 5\n\\item 8\n\\end{enumerate*}\n",
            "text/markdown": "1. 1\n2. 1\n3. 5\n4. 8\n\n\n",
            "text/html": [
              "<style>\n",
              ".list-inline {list-style: none; margin:0; padding: 0}\n",
              ".list-inline>li {display: inline-block}\n",
              ".list-inline>li:not(:last-child)::after {content: \"\\00b7\"; padding: 0 .5ex}\n",
              "</style>\n",
              "<ol class=list-inline><li>1</li><li>1</li><li>5</li><li>8</li></ol>\n"
            ]
          },
          "metadata": {
            "tags": []
          }
        }
      ]
    },
    {
      "cell_type": "code",
      "metadata": {
        "id": "s9bYOQ4GIgv2",
        "colab": {
          "base_uri": "https://localhost:8080/",
          "height": 52
        },
        "outputId": "0d4b309e-d024-4129-902e-16fba9ce39e1"
      },
      "source": [
        "# podemos utilizar la función all() para evaluar si todos los elementos de un vector son TRUE.\n",
        "all(c(F,T))\n",
        "all(c(T,T))"
      ],
      "execution_count": null,
      "outputs": [
        {
          "output_type": "display_data",
          "data": {
            "text/plain": [
              "[1] FALSE"
            ],
            "text/latex": "FALSE",
            "text/markdown": "FALSE",
            "text/html": [
              "FALSE"
            ]
          },
          "metadata": {
            "tags": []
          }
        },
        {
          "output_type": "display_data",
          "data": {
            "text/plain": [
              "[1] TRUE"
            ],
            "text/latex": "TRUE",
            "text/markdown": "TRUE",
            "text/html": [
              "TRUE"
            ]
          },
          "metadata": {
            "tags": []
          }
        }
      ]
    },
    {
      "cell_type": "code",
      "metadata": {
        "colab": {
          "base_uri": "https://localhost:8080/",
          "height": 35
        },
        "id": "Iflqf9eUH5Sp",
        "outputId": "76545c8d-cbb2-4ce5-d2c6-2929dc4111eb"
      },
      "source": [
        "all(v1 %in% v2) # Nos estamos preguntando si todos los elementos de v1 están en los elementos de v2"
      ],
      "execution_count": null,
      "outputs": [
        {
          "output_type": "display_data",
          "data": {
            "text/plain": [
              "[1] FALSE"
            ],
            "text/latex": "FALSE",
            "text/markdown": "FALSE",
            "text/html": [
              "FALSE"
            ]
          },
          "metadata": {
            "tags": []
          }
        }
      ]
    },
    {
      "cell_type": "code",
      "metadata": {
        "id": "1YGnzt1zIgv7",
        "colab": {
          "base_uri": "https://localhost:8080/",
          "height": 52
        },
        "outputId": "ccdfb05c-4f89-47e4-84f6-48b725025b35"
      },
      "source": [
        "# aritmética con vectores\n",
        "# operación de vectore de igual largo\n",
        "\n",
        "c(1,1,2) + c(10,20,30)\n",
        "c(1,1,2) * c(10,20,30)"
      ],
      "execution_count": null,
      "outputs": [
        {
          "output_type": "display_data",
          "data": {
            "text/plain": [
              "[1] 11 21 32"
            ],
            "text/latex": "\\begin{enumerate*}\n\\item 11\n\\item 21\n\\item 32\n\\end{enumerate*}\n",
            "text/markdown": "1. 11\n2. 21\n3. 32\n\n\n",
            "text/html": [
              "<style>\n",
              ".list-inline {list-style: none; margin:0; padding: 0}\n",
              ".list-inline>li {display: inline-block}\n",
              ".list-inline>li:not(:last-child)::after {content: \"\\00b7\"; padding: 0 .5ex}\n",
              "</style>\n",
              "<ol class=list-inline><li>11</li><li>21</li><li>32</li></ol>\n"
            ]
          },
          "metadata": {
            "tags": []
          }
        },
        {
          "output_type": "display_data",
          "data": {
            "text/plain": [
              "[1] 10 20 60"
            ],
            "text/latex": "\\begin{enumerate*}\n\\item 10\n\\item 20\n\\item 60\n\\end{enumerate*}\n",
            "text/markdown": "1. 10\n2. 20\n3. 60\n\n\n",
            "text/html": [
              "<style>\n",
              ".list-inline {list-style: none; margin:0; padding: 0}\n",
              ".list-inline>li {display: inline-block}\n",
              ".list-inline>li:not(:last-child)::after {content: \"\\00b7\"; padding: 0 .5ex}\n",
              "</style>\n",
              "<ol class=list-inline><li>10</li><li>20</li><li>60</li></ol>\n"
            ]
          },
          "metadata": {
            "tags": []
          }
        }
      ]
    },
    {
      "cell_type": "code",
      "metadata": {
        "id": "Bw8lX76XIgv8",
        "colab": {
          "base_uri": "https://localhost:8080/",
          "height": 52
        },
        "outputId": "33c7b7d4-ace5-44be-8483-f06fee447f09"
      },
      "source": [
        "#ponderaciones (y otras operaciones) por escalares\n",
        "c(1,1,2)*5\n",
        "c(1,1,2)+5"
      ],
      "execution_count": null,
      "outputs": [
        {
          "output_type": "display_data",
          "data": {
            "text/plain": [
              "[1]  5  5 10"
            ],
            "text/latex": "\\begin{enumerate*}\n\\item 5\n\\item 5\n\\item 10\n\\end{enumerate*}\n",
            "text/markdown": "1. 5\n2. 5\n3. 10\n\n\n",
            "text/html": [
              "<style>\n",
              ".list-inline {list-style: none; margin:0; padding: 0}\n",
              ".list-inline>li {display: inline-block}\n",
              ".list-inline>li:not(:last-child)::after {content: \"\\00b7\"; padding: 0 .5ex}\n",
              "</style>\n",
              "<ol class=list-inline><li>5</li><li>5</li><li>10</li></ol>\n"
            ]
          },
          "metadata": {
            "tags": []
          }
        },
        {
          "output_type": "display_data",
          "data": {
            "text/plain": [
              "[1] 6 6 7"
            ],
            "text/latex": "\\begin{enumerate*}\n\\item 6\n\\item 6\n\\item 7\n\\end{enumerate*}\n",
            "text/markdown": "1. 6\n2. 6\n3. 7\n\n\n",
            "text/html": [
              "<style>\n",
              ".list-inline {list-style: none; margin:0; padding: 0}\n",
              ".list-inline>li {display: inline-block}\n",
              ".list-inline>li:not(:last-child)::after {content: \"\\00b7\"; padding: 0 .5ex}\n",
              "</style>\n",
              "<ol class=list-inline><li>6</li><li>6</li><li>7</li></ol>\n"
            ]
          },
          "metadata": {
            "tags": []
          }
        }
      ]
    },
    {
      "cell_type": "code",
      "metadata": {
        "id": "syufc9_OIgv_",
        "colab": {
          "base_uri": "https://localhost:8080/",
          "height": 71
        },
        "outputId": "4b5d856f-84b1-4c63-a6f0-070ca0a04181"
      },
      "source": [
        "#CUIDADO: Si se operan vectores de dstinto largo se reciclan los valores del vector más pequeño\n",
        "c(10,5,2) + c(10,20,30,40)"
      ],
      "execution_count": null,
      "outputs": [
        {
          "output_type": "stream",
          "text": [
            "Warning message in c(10, 5, 2) + c(10, 20, 30, 40):\n",
            "“longer object length is not a multiple of shorter object length”\n"
          ],
          "name": "stderr"
        },
        {
          "output_type": "display_data",
          "data": {
            "text/plain": [
              "[1] 20 25 32 50"
            ],
            "text/latex": "\\begin{enumerate*}\n\\item 20\n\\item 25\n\\item 32\n\\item 50\n\\end{enumerate*}\n",
            "text/markdown": "1. 20\n2. 25\n3. 32\n4. 50\n\n\n",
            "text/html": [
              "<style>\n",
              ".list-inline {list-style: none; margin:0; padding: 0}\n",
              ".list-inline>li {display: inline-block}\n",
              ".list-inline>li:not(:last-child)::after {content: \"\\00b7\"; padding: 0 .5ex}\n",
              "</style>\n",
              "<ol class=list-inline><li>20</li><li>25</li><li>32</li><li>50</li></ol>\n"
            ]
          },
          "metadata": {
            "tags": []
          }
        }
      ]
    },
    {
      "cell_type": "code",
      "metadata": {
        "id": "9kfbx6J4IgwC",
        "colab": {
          "base_uri": "https://localhost:8080/",
          "height": 52
        },
        "outputId": "51a718bd-36be-43c4-f520-9a44d8e737f3"
      },
      "source": [
        "# NOTA:\n",
        "# podemos determinar el largo de un vector mediante la función length()\n",
        "length(v1)\n",
        "length(v2)"
      ],
      "execution_count": null,
      "outputs": [
        {
          "output_type": "display_data",
          "data": {
            "text/plain": [
              "[1] 6"
            ],
            "text/latex": "6",
            "text/markdown": "6",
            "text/html": [
              "6"
            ]
          },
          "metadata": {
            "tags": []
          }
        },
        {
          "output_type": "display_data",
          "data": {
            "text/plain": [
              "[1] 4"
            ],
            "text/latex": "4",
            "text/markdown": "4",
            "text/html": [
              "4"
            ]
          },
          "metadata": {
            "tags": []
          }
        }
      ]
    },
    {
      "cell_type": "markdown",
      "metadata": {
        "id": "LIr-IFowIgwD"
      },
      "source": [
        "**Secuencias**\n",
        "\n",
        "En R es posible generar de manera rápida y sencilla algunas secuencias numéricas y almacenarlas en un vector.\n",
        "\n",
        "Ejemplo de estas funciones son :\n",
        "\n",
        "    rep()\n",
        "    seq()\n",
        "    \n",
        "Más adelante veremos como generar números aleatorios siguiendo alguna función de distribución de interés.\n",
        "\n"
      ]
    },
    {
      "cell_type": "code",
      "metadata": {
        "id": "wk0fB_gWIgwE",
        "colab": {
          "base_uri": "https://localhost:8080/",
          "height": 35
        },
        "outputId": "f4727bb7-6628-4fd7-8a1d-4ddd9c5afa96"
      },
      "source": [
        "# a vimos que fácilmente ppodemos generar vectores de enteros consecutivos vía \":\"\n",
        "20:31"
      ],
      "execution_count": null,
      "outputs": [
        {
          "output_type": "display_data",
          "data": {
            "text/plain": [
              " [1] 20 21 22 23 24 25 26 27 28 29 30 31"
            ],
            "text/latex": "\\begin{enumerate*}\n\\item 20\n\\item 21\n\\item 22\n\\item 23\n\\item 24\n\\item 25\n\\item 26\n\\item 27\n\\item 28\n\\item 29\n\\item 30\n\\item 31\n\\end{enumerate*}\n",
            "text/markdown": "1. 20\n2. 21\n3. 22\n4. 23\n5. 24\n6. 25\n7. 26\n8. 27\n9. 28\n10. 29\n11. 30\n12. 31\n\n\n",
            "text/html": [
              "<style>\n",
              ".list-inline {list-style: none; margin:0; padding: 0}\n",
              ".list-inline>li {display: inline-block}\n",
              ".list-inline>li:not(:last-child)::after {content: \"\\00b7\"; padding: 0 .5ex}\n",
              "</style>\n",
              "<ol class=list-inline><li>20</li><li>21</li><li>22</li><li>23</li><li>24</li><li>25</li><li>26</li><li>27</li><li>28</li><li>29</li><li>30</li><li>31</li></ol>\n"
            ]
          },
          "metadata": {
            "tags": []
          }
        }
      ]
    },
    {
      "cell_type": "code",
      "metadata": {
        "id": "rG-Q3PmhIgwG",
        "colab": {
          "base_uri": "https://localhost:8080/",
          "height": 52
        },
        "outputId": "2a15da73-5da2-4c1f-a715-911e81478b22"
      },
      "source": [
        "# Ejemplo de secuencia con rep (utilice distintos tipos de datos)\n",
        "rep(x = \"lala\", times = 20)\n",
        "rep(\"lala\", 20)"
      ],
      "execution_count": null,
      "outputs": [
        {
          "output_type": "display_data",
          "data": {
            "text/plain": [
              " [1] \"lala\" \"lala\" \"lala\" \"lala\" \"lala\" \"lala\" \"lala\" \"lala\" \"lala\" \"lala\"\n",
              "[11] \"lala\" \"lala\" \"lala\" \"lala\" \"lala\" \"lala\" \"lala\" \"lala\" \"lala\" \"lala\""
            ],
            "text/latex": "\\begin{enumerate*}\n\\item 'lala'\n\\item 'lala'\n\\item 'lala'\n\\item 'lala'\n\\item 'lala'\n\\item 'lala'\n\\item 'lala'\n\\item 'lala'\n\\item 'lala'\n\\item 'lala'\n\\item 'lala'\n\\item 'lala'\n\\item 'lala'\n\\item 'lala'\n\\item 'lala'\n\\item 'lala'\n\\item 'lala'\n\\item 'lala'\n\\item 'lala'\n\\item 'lala'\n\\end{enumerate*}\n",
            "text/markdown": "1. 'lala'\n2. 'lala'\n3. 'lala'\n4. 'lala'\n5. 'lala'\n6. 'lala'\n7. 'lala'\n8. 'lala'\n9. 'lala'\n10. 'lala'\n11. 'lala'\n12. 'lala'\n13. 'lala'\n14. 'lala'\n15. 'lala'\n16. 'lala'\n17. 'lala'\n18. 'lala'\n19. 'lala'\n20. 'lala'\n\n\n",
            "text/html": [
              "<style>\n",
              ".list-inline {list-style: none; margin:0; padding: 0}\n",
              ".list-inline>li {display: inline-block}\n",
              ".list-inline>li:not(:last-child)::after {content: \"\\00b7\"; padding: 0 .5ex}\n",
              "</style>\n",
              "<ol class=list-inline><li>'lala'</li><li>'lala'</li><li>'lala'</li><li>'lala'</li><li>'lala'</li><li>'lala'</li><li>'lala'</li><li>'lala'</li><li>'lala'</li><li>'lala'</li><li>'lala'</li><li>'lala'</li><li>'lala'</li><li>'lala'</li><li>'lala'</li><li>'lala'</li><li>'lala'</li><li>'lala'</li><li>'lala'</li><li>'lala'</li></ol>\n"
            ]
          },
          "metadata": {
            "tags": []
          }
        },
        {
          "output_type": "display_data",
          "data": {
            "text/plain": [
              " [1] \"lala\" \"lala\" \"lala\" \"lala\" \"lala\" \"lala\" \"lala\" \"lala\" \"lala\" \"lala\"\n",
              "[11] \"lala\" \"lala\" \"lala\" \"lala\" \"lala\" \"lala\" \"lala\" \"lala\" \"lala\" \"lala\""
            ],
            "text/latex": "\\begin{enumerate*}\n\\item 'lala'\n\\item 'lala'\n\\item 'lala'\n\\item 'lala'\n\\item 'lala'\n\\item 'lala'\n\\item 'lala'\n\\item 'lala'\n\\item 'lala'\n\\item 'lala'\n\\item 'lala'\n\\item 'lala'\n\\item 'lala'\n\\item 'lala'\n\\item 'lala'\n\\item 'lala'\n\\item 'lala'\n\\item 'lala'\n\\item 'lala'\n\\item 'lala'\n\\end{enumerate*}\n",
            "text/markdown": "1. 'lala'\n2. 'lala'\n3. 'lala'\n4. 'lala'\n5. 'lala'\n6. 'lala'\n7. 'lala'\n8. 'lala'\n9. 'lala'\n10. 'lala'\n11. 'lala'\n12. 'lala'\n13. 'lala'\n14. 'lala'\n15. 'lala'\n16. 'lala'\n17. 'lala'\n18. 'lala'\n19. 'lala'\n20. 'lala'\n\n\n",
            "text/html": [
              "<style>\n",
              ".list-inline {list-style: none; margin:0; padding: 0}\n",
              ".list-inline>li {display: inline-block}\n",
              ".list-inline>li:not(:last-child)::after {content: \"\\00b7\"; padding: 0 .5ex}\n",
              "</style>\n",
              "<ol class=list-inline><li>'lala'</li><li>'lala'</li><li>'lala'</li><li>'lala'</li><li>'lala'</li><li>'lala'</li><li>'lala'</li><li>'lala'</li><li>'lala'</li><li>'lala'</li><li>'lala'</li><li>'lala'</li><li>'lala'</li><li>'lala'</li><li>'lala'</li><li>'lala'</li><li>'lala'</li><li>'lala'</li><li>'lala'</li><li>'lala'</li></ol>\n"
            ]
          },
          "metadata": {
            "tags": []
          }
        }
      ]
    },
    {
      "cell_type": "code",
      "metadata": {
        "colab": {
          "base_uri": "https://localhost:8080/",
          "height": 52
        },
        "id": "U9vQQ2fSKhLT",
        "outputId": "79844e2d-4e85-46b5-ef9b-bafc457a8dd3"
      },
      "source": [
        "rep(x = 3, times = 5)\n",
        "rep(times = 5,x = 3)"
      ],
      "execution_count": null,
      "outputs": [
        {
          "output_type": "display_data",
          "data": {
            "text/plain": [
              "[1] 3 3 3 3 3"
            ],
            "text/latex": "\\begin{enumerate*}\n\\item 3\n\\item 3\n\\item 3\n\\item 3\n\\item 3\n\\end{enumerate*}\n",
            "text/markdown": "1. 3\n2. 3\n3. 3\n4. 3\n5. 3\n\n\n",
            "text/html": [
              "<style>\n",
              ".list-inline {list-style: none; margin:0; padding: 0}\n",
              ".list-inline>li {display: inline-block}\n",
              ".list-inline>li:not(:last-child)::after {content: \"\\00b7\"; padding: 0 .5ex}\n",
              "</style>\n",
              "<ol class=list-inline><li>3</li><li>3</li><li>3</li><li>3</li><li>3</li></ol>\n"
            ]
          },
          "metadata": {
            "tags": []
          }
        },
        {
          "output_type": "display_data",
          "data": {
            "text/plain": [
              "[1] 3 3 3 3 3"
            ],
            "text/latex": "\\begin{enumerate*}\n\\item 3\n\\item 3\n\\item 3\n\\item 3\n\\item 3\n\\end{enumerate*}\n",
            "text/markdown": "1. 3\n2. 3\n3. 3\n4. 3\n5. 3\n\n\n",
            "text/html": [
              "<style>\n",
              ".list-inline {list-style: none; margin:0; padding: 0}\n",
              ".list-inline>li {display: inline-block}\n",
              ".list-inline>li:not(:last-child)::after {content: \"\\00b7\"; padding: 0 .5ex}\n",
              "</style>\n",
              "<ol class=list-inline><li>3</li><li>3</li><li>3</li><li>3</li><li>3</li></ol>\n"
            ]
          },
          "metadata": {
            "tags": []
          }
        }
      ]
    },
    {
      "cell_type": "code",
      "metadata": {
        "colab": {
          "base_uri": "https://localhost:8080/",
          "height": 35
        },
        "id": "Vm6LvASkKuZe",
        "outputId": "f38927ba-58e6-46ab-eceb-e4b4e8ee342c"
      },
      "source": [
        "rep(c(1,2,3), times= 10)"
      ],
      "execution_count": null,
      "outputs": [
        {
          "output_type": "display_data",
          "data": {
            "text/plain": [
              " [1] 1 2 3 1 2 3 1 2 3 1 2 3 1 2 3 1 2 3 1 2 3 1 2 3 1 2 3 1 2 3"
            ],
            "text/latex": "\\begin{enumerate*}\n\\item 1\n\\item 2\n\\item 3\n\\item 1\n\\item 2\n\\item 3\n\\item 1\n\\item 2\n\\item 3\n\\item 1\n\\item 2\n\\item 3\n\\item 1\n\\item 2\n\\item 3\n\\item 1\n\\item 2\n\\item 3\n\\item 1\n\\item 2\n\\item 3\n\\item 1\n\\item 2\n\\item 3\n\\item 1\n\\item 2\n\\item 3\n\\item 1\n\\item 2\n\\item 3\n\\end{enumerate*}\n",
            "text/markdown": "1. 1\n2. 2\n3. 3\n4. 1\n5. 2\n6. 3\n7. 1\n8. 2\n9. 3\n10. 1\n11. 2\n12. 3\n13. 1\n14. 2\n15. 3\n16. 1\n17. 2\n18. 3\n19. 1\n20. 2\n21. 3\n22. 1\n23. 2\n24. 3\n25. 1\n26. 2\n27. 3\n28. 1\n29. 2\n30. 3\n\n\n",
            "text/html": [
              "<style>\n",
              ".list-inline {list-style: none; margin:0; padding: 0}\n",
              ".list-inline>li {display: inline-block}\n",
              ".list-inline>li:not(:last-child)::after {content: \"\\00b7\"; padding: 0 .5ex}\n",
              "</style>\n",
              "<ol class=list-inline><li>1</li><li>2</li><li>3</li><li>1</li><li>2</li><li>3</li><li>1</li><li>2</li><li>3</li><li>1</li><li>2</li><li>3</li><li>1</li><li>2</li><li>3</li><li>1</li><li>2</li><li>3</li><li>1</li><li>2</li><li>3</li><li>1</li><li>2</li><li>3</li><li>1</li><li>2</li><li>3</li><li>1</li><li>2</li><li>3</li></ol>\n"
            ]
          },
          "metadata": {
            "tags": []
          }
        }
      ]
    },
    {
      "cell_type": "code",
      "metadata": {
        "id": "PpEgoWDXIgwI",
        "colab": {
          "base_uri": "https://localhost:8080/",
          "height": 35
        },
        "outputId": "311764af-db7f-40c7-c30e-b1136d3d7dac"
      },
      "source": [
        "# podemos controlar el largo del vector resultante con el parámetro length.out\n",
        "aux <- rep(x = c(1,2,3), length.out = 40)\n",
        "aux\n"
      ],
      "execution_count": null,
      "outputs": [
        {
          "output_type": "display_data",
          "data": {
            "text/plain": [
              " [1] 1 2 3 1 2 3 1 2 3 1 2 3 1 2 3 1 2 3 1 2 3 1 2 3 1 2 3 1 2 3 1 2 3 1 2 3 1 2\n",
              "[39] 3 1"
            ],
            "text/latex": "\\begin{enumerate*}\n\\item 1\n\\item 2\n\\item 3\n\\item 1\n\\item 2\n\\item 3\n\\item 1\n\\item 2\n\\item 3\n\\item 1\n\\item 2\n\\item 3\n\\item 1\n\\item 2\n\\item 3\n\\item 1\n\\item 2\n\\item 3\n\\item 1\n\\item 2\n\\item 3\n\\item 1\n\\item 2\n\\item 3\n\\item 1\n\\item 2\n\\item 3\n\\item 1\n\\item 2\n\\item 3\n\\item 1\n\\item 2\n\\item 3\n\\item 1\n\\item 2\n\\item 3\n\\item 1\n\\item 2\n\\item 3\n\\item 1\n\\end{enumerate*}\n",
            "text/markdown": "1. 1\n2. 2\n3. 3\n4. 1\n5. 2\n6. 3\n7. 1\n8. 2\n9. 3\n10. 1\n11. 2\n12. 3\n13. 1\n14. 2\n15. 3\n16. 1\n17. 2\n18. 3\n19. 1\n20. 2\n21. 3\n22. 1\n23. 2\n24. 3\n25. 1\n26. 2\n27. 3\n28. 1\n29. 2\n30. 3\n31. 1\n32. 2\n33. 3\n34. 1\n35. 2\n36. 3\n37. 1\n38. 2\n39. 3\n40. 1\n\n\n",
            "text/html": [
              "<style>\n",
              ".list-inline {list-style: none; margin:0; padding: 0}\n",
              ".list-inline>li {display: inline-block}\n",
              ".list-inline>li:not(:last-child)::after {content: \"\\00b7\"; padding: 0 .5ex}\n",
              "</style>\n",
              "<ol class=list-inline><li>1</li><li>2</li><li>3</li><li>1</li><li>2</li><li>3</li><li>1</li><li>2</li><li>3</li><li>1</li><li>2</li><li>3</li><li>1</li><li>2</li><li>3</li><li>1</li><li>2</li><li>3</li><li>1</li><li>2</li><li>3</li><li>1</li><li>2</li><li>3</li><li>1</li><li>2</li><li>3</li><li>1</li><li>2</li><li>3</li><li>1</li><li>2</li><li>3</li><li>1</li><li>2</li><li>3</li><li>1</li><li>2</li><li>3</li><li>1</li></ol>\n"
            ]
          },
          "metadata": {
            "tags": []
          }
        }
      ]
    },
    {
      "cell_type": "code",
      "metadata": {
        "colab": {
          "base_uri": "https://localhost:8080/",
          "height": 35
        },
        "id": "WzoZF2BaLIQl",
        "outputId": "bf7e6fac-d596-4c29-c338-c543ddb29926"
      },
      "source": [
        "length(aux)"
      ],
      "execution_count": null,
      "outputs": [
        {
          "output_type": "display_data",
          "data": {
            "text/plain": [
              "[1] 40"
            ],
            "text/latex": "40",
            "text/markdown": "40",
            "text/html": [
              "40"
            ]
          },
          "metadata": {
            "tags": []
          }
        }
      ]
    },
    {
      "cell_type": "code",
      "metadata": {
        "id": "gGkgGylnIgwK",
        "colab": {
          "base_uri": "https://localhost:8080/",
          "height": 52
        },
        "outputId": "78ef1eeb-45ac-48b4-e07f-78cc523df2a0"
      },
      "source": [
        "# ejemplo de función seq (utilice argumento by, y otro ejemplo con argumento length.out)\n",
        "#?seq\n",
        "seq(from = 0, to = 1, by = 0.1)\n",
        "seq(0,1,0.1)"
      ],
      "execution_count": null,
      "outputs": [
        {
          "output_type": "display_data",
          "data": {
            "text/plain": [
              " [1] 0.0 0.1 0.2 0.3 0.4 0.5 0.6 0.7 0.8 0.9 1.0"
            ],
            "text/latex": "\\begin{enumerate*}\n\\item 0\n\\item 0.1\n\\item 0.2\n\\item 0.3\n\\item 0.4\n\\item 0.5\n\\item 0.6\n\\item 0.7\n\\item 0.8\n\\item 0.9\n\\item 1\n\\end{enumerate*}\n",
            "text/markdown": "1. 0\n2. 0.1\n3. 0.2\n4. 0.3\n5. 0.4\n6. 0.5\n7. 0.6\n8. 0.7\n9. 0.8\n10. 0.9\n11. 1\n\n\n",
            "text/html": [
              "<style>\n",
              ".list-inline {list-style: none; margin:0; padding: 0}\n",
              ".list-inline>li {display: inline-block}\n",
              ".list-inline>li:not(:last-child)::after {content: \"\\00b7\"; padding: 0 .5ex}\n",
              "</style>\n",
              "<ol class=list-inline><li>0</li><li>0.1</li><li>0.2</li><li>0.3</li><li>0.4</li><li>0.5</li><li>0.6</li><li>0.7</li><li>0.8</li><li>0.9</li><li>1</li></ol>\n"
            ]
          },
          "metadata": {
            "tags": []
          }
        },
        {
          "output_type": "display_data",
          "data": {
            "text/plain": [
              " [1] 0.0 0.1 0.2 0.3 0.4 0.5 0.6 0.7 0.8 0.9 1.0"
            ],
            "text/latex": "\\begin{enumerate*}\n\\item 0\n\\item 0.1\n\\item 0.2\n\\item 0.3\n\\item 0.4\n\\item 0.5\n\\item 0.6\n\\item 0.7\n\\item 0.8\n\\item 0.9\n\\item 1\n\\end{enumerate*}\n",
            "text/markdown": "1. 0\n2. 0.1\n3. 0.2\n4. 0.3\n5. 0.4\n6. 0.5\n7. 0.6\n8. 0.7\n9. 0.8\n10. 0.9\n11. 1\n\n\n",
            "text/html": [
              "<style>\n",
              ".list-inline {list-style: none; margin:0; padding: 0}\n",
              ".list-inline>li {display: inline-block}\n",
              ".list-inline>li:not(:last-child)::after {content: \"\\00b7\"; padding: 0 .5ex}\n",
              "</style>\n",
              "<ol class=list-inline><li>0</li><li>0.1</li><li>0.2</li><li>0.3</li><li>0.4</li><li>0.5</li><li>0.6</li><li>0.7</li><li>0.8</li><li>0.9</li><li>1</li></ol>\n"
            ]
          },
          "metadata": {
            "tags": []
          }
        }
      ]
    },
    {
      "cell_type": "code",
      "metadata": {
        "id": "psRswQHBIgwO",
        "colab": {
          "base_uri": "https://localhost:8080/",
          "height": 52
        },
        "outputId": "bf05f1d5-8927-4c66-89df-5d7f83157e14"
      },
      "source": [
        "# ejemplo de vector aleatorio siguiendo una determinada distribución\n",
        "\n",
        "# distribución uniforme\n",
        "runif(10)"
      ],
      "execution_count": null,
      "outputs": [
        {
          "output_type": "display_data",
          "data": {
            "text/plain": [
              " [1] 0.3863952 0.5555876 0.1756607 0.3642029 0.9080244 0.2344641 0.6906711\n",
              " [8] 0.8831649 0.4818303 0.8022670"
            ],
            "text/latex": "\\begin{enumerate*}\n\\item 0.386395229492337\n\\item 0.555587569484487\n\\item 0.175660694949329\n\\item 0.364202888449654\n\\item 0.908024436794221\n\\item 0.234464113600552\n\\item 0.690671072807163\n\\item 0.883164888015017\n\\item 0.481830315198749\n\\item 0.802266997518018\n\\end{enumerate*}\n",
            "text/markdown": "1. 0.386395229492337\n2. 0.555587569484487\n3. 0.175660694949329\n4. 0.364202888449654\n5. 0.908024436794221\n6. 0.234464113600552\n7. 0.690671072807163\n8. 0.883164888015017\n9. 0.481830315198749\n10. 0.802266997518018\n\n\n",
            "text/html": [
              "<style>\n",
              ".list-inline {list-style: none; margin:0; padding: 0}\n",
              ".list-inline>li {display: inline-block}\n",
              ".list-inline>li:not(:last-child)::after {content: \"\\00b7\"; padding: 0 .5ex}\n",
              "</style>\n",
              "<ol class=list-inline><li>0.386395229492337</li><li>0.555587569484487</li><li>0.175660694949329</li><li>0.364202888449654</li><li>0.908024436794221</li><li>0.234464113600552</li><li>0.690671072807163</li><li>0.883164888015017</li><li>0.481830315198749</li><li>0.802266997518018</li></ol>\n"
            ]
          },
          "metadata": {
            "tags": []
          }
        }
      ]
    },
    {
      "cell_type": "code",
      "metadata": {
        "colab": {
          "base_uri": "https://localhost:8080/",
          "height": 276
        },
        "id": "0sZ-AuE6MN77",
        "outputId": "55351e55-b302-4a3a-ee09-71369e53de1c"
      },
      "source": [
        "# distribución normal\n",
        "rnorm(100)"
      ],
      "execution_count": null,
      "outputs": [
        {
          "output_type": "display_data",
          "data": {
            "text/plain": [
              "  [1]  1.41954854  0.73182598 -1.31589865  0.37515376  0.33963415  0.11718911\n",
              "  [7]  0.40785192 -1.02409171 -0.13137910  0.30218825  0.23861519  1.06631583\n",
              " [13] -1.14649118 -1.11989359 -0.48830862 -0.78720165 -0.37936528 -0.96373820\n",
              " [19]  1.05312652 -0.62460032 -1.80324975  0.96298426 -0.55222922  1.20286557\n",
              " [25]  1.80075048  0.82921690  0.44330741  0.76288168  0.61661769 -2.46658520\n",
              " [31] -0.37774234  1.41754485 -2.13980645 -1.06190478 -0.42011474  0.79963978\n",
              " [37]  0.10744262 -0.66639250 -0.66605254 -1.31014321  0.14085722  0.15637632\n",
              " [43]  0.70151024 -1.26181118  0.55955071 -0.21162221 -0.08329846 -0.03577041\n",
              " [49] -1.47397593  0.94979198 -0.41344664  1.42285637 -1.24759492  1.87699091\n",
              " [55] -0.75520412 -1.23545978 -0.40506878 -0.32918796 -0.09498898  1.13086961\n",
              " [61]  2.11600336  1.17406694 -0.01147452 -0.77364294  0.05282660  0.36902118\n",
              " [67]  0.18070903  0.20652241 -0.42562619  0.32837668  1.30442394 -0.66342311\n",
              " [73] -0.75096634 -0.47539661 -0.47005730  1.60340288  1.62825633 -0.49501981\n",
              " [79]  0.53929523  1.89069005  0.11872405  0.04319196  0.85419859 -1.97570809\n",
              " [85] -0.02001734 -0.32570984  0.58987514  0.08075207  0.92387705 -0.45363309\n",
              " [91]  0.58564674 -0.64927726  0.89737738  0.32971242  1.27223733 -2.04929802\n",
              " [97] -0.23006942 -0.62080611  0.32678133 -0.27614572"
            ],
            "text/latex": "\\begin{enumerate*}\n\\item 1.41954854095004\n\\item 0.7318259840765\n\\item -1.31589865266706\n\\item 0.375153763140722\n\\item 0.339634150954196\n\\item 0.117189105498985\n\\item 0.4078519163318\n\\item -1.02409170637272\n\\item -0.131379097217622\n\\item 0.302188247618844\n\\item 0.238615190777581\n\\item 1.06631582591123\n\\item -1.14649117555173\n\\item -1.11989359070912\n\\item -0.488308617932983\n\\item -0.787201653646802\n\\item -0.379365282141914\n\\item -0.963738204088754\n\\item 1.05312651658223\n\\item -0.624600321158445\n\\item -1.80324974963378\n\\item 0.96298426104335\n\\item -0.552229222971444\n\\item 1.20286557410871\n\\item 1.80075047547743\n\\item 0.829216899401884\n\\item 0.443307410593346\n\\item 0.762881679615067\n\\item 0.616617691439001\n\\item -2.46658519946988\n\\item -0.377742343535611\n\\item 1.41754485423438\n\\item -2.13980644811692\n\\item -1.06190478332446\n\\item -0.420114739722046\n\\item 0.799639779793356\n\\item 0.107442620234195\n\\item -0.666392497684603\n\\item -0.666052536195138\n\\item -1.31014320994881\n\\item 0.140857216191547\n\\item 0.156376324801016\n\\item 0.70151023853747\n\\item -1.26181118459127\n\\item 0.559550708339296\n\\item -0.211622209754891\n\\item -0.0832984631914915\n\\item -0.0357704112517498\n\\item -1.47397592695968\n\\item 0.949791975924481\n\\item -0.413446640970578\n\\item 1.42285636741441\n\\item -1.24759492410607\n\\item 1.8769909069387\n\\item -0.755204121285552\n\\item -1.23545978384479\n\\item -0.405068778599873\n\\item -0.329187958041396\n\\item -0.094988983758181\n\\item 1.13086961278856\n\\item 2.11600336263759\n\\item 1.1740669390305\n\\item -0.0114745173725329\n\\item -0.773642944700335\n\\item 0.0528266017103481\n\\item 0.369021175489225\n\\item 0.180709033737534\n\\item 0.206522410985725\n\\item -0.42562618542826\n\\item 0.328376675282887\n\\item 1.30442394123726\n\\item -0.663423107682627\n\\item -0.750966341591904\n\\item -0.475396606191942\n\\item -0.470057295819373\n\\item 1.60340287756495\n\\item 1.62825633363298\n\\item -0.495019808611675\n\\item 0.539295226929088\n\\item 1.89069004808402\n\\item 0.11872405067872\n\\item 0.0431919611700135\n\\item 0.85419859289853\n\\item -1.97570809180905\n\\item -0.0200173423450749\n\\item -0.325709840343625\n\\item 0.589875138007199\n\\item 0.0807520676007901\n\\item 0.923877049722528\n\\item -0.453633086223371\n\\item 0.585646740369998\n\\item -0.649277257277609\n\\item 0.897377379755205\n\\item 0.329712415381271\n\\item 1.27223733429227\n\\item -2.04929801981062\n\\item -0.230069423089362\n\\item -0.620806105957891\n\\item 0.326781334972801\n\\item -0.276145724287038\n\\end{enumerate*}\n",
            "text/markdown": "1. 1.41954854095004\n2. 0.7318259840765\n3. -1.31589865266706\n4. 0.375153763140722\n5. 0.339634150954196\n6. 0.117189105498985\n7. 0.4078519163318\n8. -1.02409170637272\n9. -0.131379097217622\n10. 0.302188247618844\n11. 0.238615190777581\n12. 1.06631582591123\n13. -1.14649117555173\n14. -1.11989359070912\n15. -0.488308617932983\n16. -0.787201653646802\n17. -0.379365282141914\n18. -0.963738204088754\n19. 1.05312651658223\n20. -0.624600321158445\n21. -1.80324974963378\n22. 0.96298426104335\n23. -0.552229222971444\n24. 1.20286557410871\n25. 1.80075047547743\n26. 0.829216899401884\n27. 0.443307410593346\n28. 0.762881679615067\n29. 0.616617691439001\n30. -2.46658519946988\n31. -0.377742343535611\n32. 1.41754485423438\n33. -2.13980644811692\n34. -1.06190478332446\n35. -0.420114739722046\n36. 0.799639779793356\n37. 0.107442620234195\n38. -0.666392497684603\n39. -0.666052536195138\n40. -1.31014320994881\n41. 0.140857216191547\n42. 0.156376324801016\n43. 0.70151023853747\n44. -1.26181118459127\n45. 0.559550708339296\n46. -0.211622209754891\n47. -0.0832984631914915\n48. -0.0357704112517498\n49. -1.47397592695968\n50. 0.949791975924481\n51. -0.413446640970578\n52. 1.42285636741441\n53. -1.24759492410607\n54. 1.8769909069387\n55. -0.755204121285552\n56. -1.23545978384479\n57. -0.405068778599873\n58. -0.329187958041396\n59. -0.094988983758181\n60. 1.13086961278856\n61. 2.11600336263759\n62. 1.1740669390305\n63. -0.0114745173725329\n64. -0.773642944700335\n65. 0.0528266017103481\n66. 0.369021175489225\n67. 0.180709033737534\n68. 0.206522410985725\n69. -0.42562618542826\n70. 0.328376675282887\n71. 1.30442394123726\n72. -0.663423107682627\n73. -0.750966341591904\n74. -0.475396606191942\n75. -0.470057295819373\n76. 1.60340287756495\n77. 1.62825633363298\n78. -0.495019808611675\n79. 0.539295226929088\n80. 1.89069004808402\n81. 0.11872405067872\n82. 0.0431919611700135\n83. 0.85419859289853\n84. -1.97570809180905\n85. -0.0200173423450749\n86. -0.325709840343625\n87. 0.589875138007199\n88. 0.0807520676007901\n89. 0.923877049722528\n90. -0.453633086223371\n91. 0.585646740369998\n92. -0.649277257277609\n93. 0.897377379755205\n94. 0.329712415381271\n95. 1.27223733429227\n96. -2.04929801981062\n97. -0.230069423089362\n98. -0.620806105957891\n99. 0.326781334972801\n100. -0.276145724287038\n\n\n",
            "text/html": [
              "<style>\n",
              ".list-inline {list-style: none; margin:0; padding: 0}\n",
              ".list-inline>li {display: inline-block}\n",
              ".list-inline>li:not(:last-child)::after {content: \"\\00b7\"; padding: 0 .5ex}\n",
              "</style>\n",
              "<ol class=list-inline><li>1.41954854095004</li><li>0.7318259840765</li><li>-1.31589865266706</li><li>0.375153763140722</li><li>0.339634150954196</li><li>0.117189105498985</li><li>0.4078519163318</li><li>-1.02409170637272</li><li>-0.131379097217622</li><li>0.302188247618844</li><li>0.238615190777581</li><li>1.06631582591123</li><li>-1.14649117555173</li><li>-1.11989359070912</li><li>-0.488308617932983</li><li>-0.787201653646802</li><li>-0.379365282141914</li><li>-0.963738204088754</li><li>1.05312651658223</li><li>-0.624600321158445</li><li>-1.80324974963378</li><li>0.96298426104335</li><li>-0.552229222971444</li><li>1.20286557410871</li><li>1.80075047547743</li><li>0.829216899401884</li><li>0.443307410593346</li><li>0.762881679615067</li><li>0.616617691439001</li><li>-2.46658519946988</li><li>-0.377742343535611</li><li>1.41754485423438</li><li>-2.13980644811692</li><li>-1.06190478332446</li><li>-0.420114739722046</li><li>0.799639779793356</li><li>0.107442620234195</li><li>-0.666392497684603</li><li>-0.666052536195138</li><li>-1.31014320994881</li><li>0.140857216191547</li><li>0.156376324801016</li><li>0.70151023853747</li><li>-1.26181118459127</li><li>0.559550708339296</li><li>-0.211622209754891</li><li>-0.0832984631914915</li><li>-0.0357704112517498</li><li>-1.47397592695968</li><li>0.949791975924481</li><li>-0.413446640970578</li><li>1.42285636741441</li><li>-1.24759492410607</li><li>1.8769909069387</li><li>-0.755204121285552</li><li>-1.23545978384479</li><li>-0.405068778599873</li><li>-0.329187958041396</li><li>-0.094988983758181</li><li>1.13086961278856</li><li>2.11600336263759</li><li>1.1740669390305</li><li>-0.0114745173725329</li><li>-0.773642944700335</li><li>0.0528266017103481</li><li>0.369021175489225</li><li>0.180709033737534</li><li>0.206522410985725</li><li>-0.42562618542826</li><li>0.328376675282887</li><li>1.30442394123726</li><li>-0.663423107682627</li><li>-0.750966341591904</li><li>-0.475396606191942</li><li>-0.470057295819373</li><li>1.60340287756495</li><li>1.62825633363298</li><li>-0.495019808611675</li><li>0.539295226929088</li><li>1.89069004808402</li><li>0.11872405067872</li><li>0.0431919611700135</li><li>0.85419859289853</li><li>-1.97570809180905</li><li>-0.0200173423450749</li><li>-0.325709840343625</li><li>0.589875138007199</li><li>0.0807520676007901</li><li>0.923877049722528</li><li>-0.453633086223371</li><li>0.585646740369998</li><li>-0.649277257277609</li><li>0.897377379755205</li><li>0.329712415381271</li><li>1.27223733429227</li><li>-2.04929801981062</li><li>-0.230069423089362</li><li>-0.620806105957891</li><li>0.326781334972801</li><li>-0.276145724287038</li></ol>\n"
            ]
          },
          "metadata": {
            "tags": []
          }
        }
      ]
    },
    {
      "cell_type": "markdown",
      "metadata": {
        "id": "TlnEINwUIgwP"
      },
      "source": [
        "### 3.2 Funciones (primera parte) \n",
        "\n",
        "#### 3.2.1 Funciones vectorizadas y operaciones con vectores\n",
        "\n",
        "R es un lenguaje funcional, en el sentido de que prácticamente cada llamada a R corresponde a una función que puede (o no) recibir argumentos de entrada.\n",
        "Una de las ventajas es que existe una amplia, muy amplia,... verdaderamente amplia!, variedad de funciones disponibles, tanto en las librerías que vienen con la instalación por defecto como las librerías disponibles en CRAN o en toda la comunidad R.\n",
        "\n",
        "En R, una función $f$ se dice vectorizada si dado un vector $\\mathbf{x}=(x_1,x_2,\\dots,x_n)$, se tiene que $f(\\mathbf{x})=(f(x_1),f(x_2),\\dots,f(x_n))$.\n",
        "Esto hace que, por ejemplo, la aritmética de vectores se más sencilla de implentar y con un menor tiempo de cómputo . Gran parte de las funciones disponibles en la librerías (bibliotecas o *packages*) de R corresponden a funciones vectorizadas.\n",
        "A modo de ejemplo, a cotinuación se muestran algunas funciones (de las más básicas) aritméticas, y funciones para trabajar con texto:\n",
        "    \n",
        "    +,-,*,/\n",
        "    abs()\n",
        "    sqrt()\n",
        "    cos()\n",
        "    sin()\n",
        "    tan()\n",
        "    nchar()\n",
        "    susbtr()\n",
        "    grepl()\n",
        "    gsub()\n",
        "    \n",
        "   \n",
        "   \n",
        "   "
      ]
    },
    {
      "cell_type": "code",
      "metadata": {
        "id": "tO3oB1bnIgwP",
        "colab": {
          "base_uri": "https://localhost:8080/",
          "height": 35
        },
        "outputId": "516ad3ca-66fb-49c1-815b-5f19d973f779"
      },
      "source": [
        "# 3.2. Funciones (primera parte) ------------\n",
        "# 3.2.1 Funciones vectorizadas \n",
        "# Ejemplos básicos de funciones(vectorizadas)\n",
        "v3 <- c(1,4,16,25)\n",
        "v3"
      ],
      "execution_count": null,
      "outputs": [
        {
          "output_type": "display_data",
          "data": {
            "text/plain": [
              "[1]  1  4 16 25"
            ],
            "text/latex": "\\begin{enumerate*}\n\\item 1\n\\item 4\n\\item 16\n\\item 25\n\\end{enumerate*}\n",
            "text/markdown": "1. 1\n2. 4\n3. 16\n4. 25\n\n\n",
            "text/html": [
              "<style>\n",
              ".list-inline {list-style: none; margin:0; padding: 0}\n",
              ".list-inline>li {display: inline-block}\n",
              ".list-inline>li:not(:last-child)::after {content: \"\\00b7\"; padding: 0 .5ex}\n",
              "</style>\n",
              "<ol class=list-inline><li>1</li><li>4</li><li>16</li><li>25</li></ol>\n"
            ]
          },
          "metadata": {
            "tags": []
          }
        }
      ]
    },
    {
      "cell_type": "code",
      "metadata": {
        "colab": {
          "base_uri": "https://localhost:8080/",
          "height": 35
        },
        "id": "yBHupQ41PQmQ",
        "outputId": "549e26fe-a043-421a-b554-3509f831d026"
      },
      "source": [
        "sqrt(v3)"
      ],
      "execution_count": null,
      "outputs": [
        {
          "output_type": "display_data",
          "data": {
            "text/plain": [
              "[1] 1 2 4 5"
            ],
            "text/latex": "\\begin{enumerate*}\n\\item 1\n\\item 2\n\\item 4\n\\item 5\n\\end{enumerate*}\n",
            "text/markdown": "1. 1\n2. 2\n3. 4\n4. 5\n\n\n",
            "text/html": [
              "<style>\n",
              ".list-inline {list-style: none; margin:0; padding: 0}\n",
              ".list-inline>li {display: inline-block}\n",
              ".list-inline>li:not(:last-child)::after {content: \"\\00b7\"; padding: 0 .5ex}\n",
              "</style>\n",
              "<ol class=list-inline><li>1</li><li>2</li><li>4</li><li>5</li></ol>\n"
            ]
          },
          "metadata": {
            "tags": []
          }
        }
      ]
    },
    {
      "cell_type": "code",
      "metadata": {
        "id": "NivskO3jIgwT",
        "colab": {
          "base_uri": "https://localhost:8080/",
          "height": 52
        },
        "outputId": "5b5e326f-e512-41c1-fe97-b0f34457a3ba"
      },
      "source": [
        "# funciones para manipular texto\n",
        "# cantidad de caracteres\n",
        "\n",
        "nchar(\"hola\")\n",
        "nchar(c(\"hola\",\"soy\", \"miguel\"))\n"
      ],
      "execution_count": null,
      "outputs": [
        {
          "output_type": "display_data",
          "data": {
            "text/plain": [
              "[1] 4"
            ],
            "text/latex": "4",
            "text/markdown": "4",
            "text/html": [
              "4"
            ]
          },
          "metadata": {
            "tags": []
          }
        },
        {
          "output_type": "display_data",
          "data": {
            "text/plain": [
              "[1] 4 3 6"
            ],
            "text/latex": "\\begin{enumerate*}\n\\item 4\n\\item 3\n\\item 6\n\\end{enumerate*}\n",
            "text/markdown": "1. 4\n2. 3\n3. 6\n\n\n",
            "text/html": [
              "<style>\n",
              ".list-inline {list-style: none; margin:0; padding: 0}\n",
              ".list-inline>li {display: inline-block}\n",
              ".list-inline>li:not(:last-child)::after {content: \"\\00b7\"; padding: 0 .5ex}\n",
              "</style>\n",
              "<ol class=list-inline><li>4</li><li>3</li><li>6</li></ol>\n"
            ]
          },
          "metadata": {
            "tags": []
          }
        }
      ]
    },
    {
      "cell_type": "code",
      "metadata": {
        "id": "tA55foL1IgwX",
        "colab": {
          "base_uri": "https://localhost:8080/",
          "height": 35
        },
        "outputId": "a8fc5999-cc25-4d02-eaf6-2889027e0a4e"
      },
      "source": [
        "# substring substr()\n",
        "\n",
        "substr(\"hola\",2,3) # Extrae el substring que comienza en el segundo caracter y termina en el tercero."
      ],
      "execution_count": null,
      "outputs": [
        {
          "output_type": "display_data",
          "data": {
            "text/plain": [
              "[1] \"ol\""
            ],
            "text/latex": "'ol'",
            "text/markdown": "'ol'",
            "text/html": [
              "'ol'"
            ]
          },
          "metadata": {
            "tags": []
          }
        }
      ]
    },
    {
      "cell_type": "code",
      "metadata": {
        "id": "vjRwdUbiIgwY",
        "colab": {
          "base_uri": "https://localhost:8080/",
          "height": 69
        },
        "outputId": "9c13bd5f-0f7c-417f-c1d8-9c9fb68dd45a"
      },
      "source": [
        "# grepl() evlaúa si un  caracter está contenido en otro. (LIKE)\n",
        "#?grepl()\n",
        "grepl(\"ala\", \"palabra\")\n",
        "grepl(\"alo\", \"palabra\")\n",
        "\n",
        "\n",
        "#gsub()\n",
        "#?gsub\n",
        "\n",
        "# si reemplazamos en un vector de palabras\n",
        "grepl(\"ala\", c(\"palabra\",\"hola\",\"pásala\") )\n"
      ],
      "execution_count": null,
      "outputs": [
        {
          "output_type": "display_data",
          "data": {
            "text/plain": [
              "[1] TRUE"
            ],
            "text/latex": "TRUE",
            "text/markdown": "TRUE",
            "text/html": [
              "TRUE"
            ]
          },
          "metadata": {
            "tags": []
          }
        },
        {
          "output_type": "display_data",
          "data": {
            "text/plain": [
              "[1] FALSE"
            ],
            "text/latex": "FALSE",
            "text/markdown": "FALSE",
            "text/html": [
              "FALSE"
            ]
          },
          "metadata": {
            "tags": []
          }
        },
        {
          "output_type": "display_data",
          "data": {
            "text/plain": [
              "[1]  TRUE FALSE  TRUE"
            ],
            "text/latex": "\\begin{enumerate*}\n\\item TRUE\n\\item FALSE\n\\item TRUE\n\\end{enumerate*}\n",
            "text/markdown": "1. TRUE\n2. FALSE\n3. TRUE\n\n\n",
            "text/html": [
              "<style>\n",
              ".list-inline {list-style: none; margin:0; padding: 0}\n",
              ".list-inline>li {display: inline-block}\n",
              ".list-inline>li:not(:last-child)::after {content: \"\\00b7\"; padding: 0 .5ex}\n",
              "</style>\n",
              "<ol class=list-inline><li>TRUE</li><li>FALSE</li><li>TRUE</li></ol>\n"
            ]
          },
          "metadata": {
            "tags": []
          }
        }
      ]
    },
    {
      "cell_type": "code",
      "metadata": {
        "id": "_D4DzlzOMwEk"
      },
      "source": [
        "?grepl()"
      ],
      "execution_count": null,
      "outputs": []
    },
    {
      "cell_type": "code",
      "metadata": {
        "id": "0j9kKUbzIgwZ",
        "colab": {
          "base_uri": "https://localhost:8080/",
          "height": 35
        },
        "outputId": "c2aafa74-4d2f-4ac6-df7c-cafba23d166c"
      },
      "source": [
        "#gsub() reemplaza caracteres dentro de un texto\n",
        "\n",
        "gsub(\"ala\", \"mm\", c(\"palabra\",\"hola\",\"pásala\") ) # Estamos reeemplazando los \"ala\" por \"mm\", en el evctor  c(\"palabra\",\"hola\",\"pásala\")  \n",
        "\n",
        "\n",
        "## Otras referencias útiles para la manipulación de textos y strings.\n",
        "\n",
        "#https://www.tidytextmining.com/\n",
        "#https://stringr.tidyverse.org/\n"
      ],
      "execution_count": null,
      "outputs": [
        {
          "output_type": "display_data",
          "data": {
            "text/plain": [
              "[1] \"pmmbra\" \"hola\"   \"pásmm\" "
            ],
            "text/latex": "\\begin{enumerate*}\n\\item 'pmmbra'\n\\item 'hola'\n\\item 'pásmm'\n\\end{enumerate*}\n",
            "text/markdown": "1. 'pmmbra'\n2. 'hola'\n3. 'pásmm'\n\n\n",
            "text/html": [
              "<style>\n",
              ".list-inline {list-style: none; margin:0; padding: 0}\n",
              ".list-inline>li {display: inline-block}\n",
              ".list-inline>li:not(:last-child)::after {content: \"\\00b7\"; padding: 0 .5ex}\n",
              "</style>\n",
              "<ol class=list-inline><li>'pmmbra'</li><li>'hola'</li><li>'pásmm'</li></ol>\n"
            ]
          },
          "metadata": {
            "tags": []
          }
        }
      ]
    },
    {
      "cell_type": "code",
      "metadata": {
        "colab": {
          "base_uri": "https://localhost:8080/",
          "height": 35
        },
        "id": "BcfbavgSRRwn",
        "outputId": "1a7f667c-3559-4c76-aab2-c9d8433a1fdc"
      },
      "source": [
        "chartr(\"áéíóú\",\"aeiou\",\"Hola téngo acéntos malós\")"
      ],
      "execution_count": null,
      "outputs": [
        {
          "output_type": "display_data",
          "data": {
            "text/plain": [
              "[1] \"Hola tengo acentos malos\""
            ],
            "text/latex": "'Hola tengo acentos malos'",
            "text/markdown": "'Hola tengo acentos malos'",
            "text/html": [
              "'Hola tengo acentos malos'"
            ]
          },
          "metadata": {
            "tags": []
          }
        }
      ]
    },
    {
      "cell_type": "code",
      "metadata": {
        "id": "loNAnYiwRzL4"
      },
      "source": [
        "# Otras funciones de utilidad\n",
        "# tolower()\n",
        "# toupper()"
      ],
      "execution_count": null,
      "outputs": []
    },
    {
      "cell_type": "markdown",
      "metadata": {
        "id": "CW1uEFLCMw6h"
      },
      "source": [
        "# Definición de funciones\n",
        "\n"
      ]
    },
    {
      "cell_type": "code",
      "metadata": {
        "id": "EUIsbWDoNN6n"
      },
      "source": [
        "g <- function(x,y){\n",
        "  return(x*y)\n",
        "}"
      ],
      "execution_count": null,
      "outputs": []
    },
    {
      "cell_type": "code",
      "metadata": {
        "colab": {
          "base_uri": "https://localhost:8080/",
          "height": 52
        },
        "id": "s3nYa3c5Sd81",
        "outputId": "abb5690a-0d0d-44fe-87ae-728238580b8a"
      },
      "source": [
        "g(10,5)\n",
        "g(x = 10, y = 5)"
      ],
      "execution_count": null,
      "outputs": [
        {
          "output_type": "display_data",
          "data": {
            "text/plain": [
              "[1] 50"
            ],
            "text/latex": "50",
            "text/markdown": "50",
            "text/html": [
              "50"
            ]
          },
          "metadata": {
            "tags": []
          }
        },
        {
          "output_type": "display_data",
          "data": {
            "text/plain": [
              "[1] 50"
            ],
            "text/latex": "50",
            "text/markdown": "50",
            "text/html": [
              "50"
            ]
          },
          "metadata": {
            "tags": []
          }
        }
      ]
    },
    {
      "cell_type": "code",
      "metadata": {
        "id": "WijkQH0YTAn6"
      },
      "source": [
        "set.seed(2021)"
      ],
      "execution_count": null,
      "outputs": []
    },
    {
      "cell_type": "code",
      "metadata": {
        "colab": {
          "base_uri": "https://localhost:8080/",
          "height": 35
        },
        "id": "WOX98PPtSlEY",
        "outputId": "ca6a696b-c5ad-4bd4-b1e0-5854bbeca25c"
      },
      "source": [
        "#Retomemos el vector de ventas..\n",
        "ventas <- rnorm(100,mean = 1000, sd = 10)\n",
        "\n",
        "# Determinar las ventas promedio, cuando esta fue de más de 1010 unidades.\n",
        "# Sin una función\n",
        "mean(ventas[ventas > 1010])\n"
      ],
      "execution_count": null,
      "outputs": [
        {
          "output_type": "display_data",
          "data": {
            "text/plain": [
              "[1] 1014.791"
            ],
            "text/latex": "1014.79093474279",
            "text/markdown": "1014.79093474279",
            "text/html": [
              "1014.79093474279"
            ]
          },
          "metadata": {
            "tags": []
          }
        }
      ]
    },
    {
      "cell_type": "code",
      "metadata": {
        "id": "T77T837OTYoJ"
      },
      "source": [
        "# Definiendo una función (acá retornamos la media y la desviación estándar)\n",
        "prom_ventas_altas <- function(v, umbral){\n",
        "  var_aux <- v[v > umbral]\n",
        "  m <- mean(var_aux)\n",
        "  sd <- sd(var_aux) \n",
        "  return(c(m,sd))\n",
        "} \n"
      ],
      "execution_count": null,
      "outputs": []
    },
    {
      "cell_type": "code",
      "metadata": {
        "colab": {
          "base_uri": "https://localhost:8080/",
          "height": 35
        },
        "id": "pd-4AcaaS9yP",
        "outputId": "d4fc43c4-ff4a-49ea-a5d3-9d008182f10e"
      },
      "source": [
        "prom_ventas_altas(ventas, 1010)"
      ],
      "execution_count": null,
      "outputs": [
        {
          "output_type": "display_data",
          "data": {
            "text/plain": [
              "[1] 1014.790935    4.357364"
            ],
            "text/latex": "\\begin{enumerate*}\n\\item 1014.79093474279\n\\item 4.35736405164196\n\\end{enumerate*}\n",
            "text/markdown": "1. 1014.79093474279\n2. 4.35736405164196\n\n\n",
            "text/html": [
              "<style>\n",
              ".list-inline {list-style: none; margin:0; padding: 0}\n",
              ".list-inline>li {display: inline-block}\n",
              ".list-inline>li:not(:last-child)::after {content: \"\\00b7\"; padding: 0 .5ex}\n",
              "</style>\n",
              "<ol class=list-inline><li>1014.79093474279</li><li>4.35736405164196</li></ol>\n"
            ]
          },
          "metadata": {
            "tags": []
          }
        }
      ]
    }
  ]
}